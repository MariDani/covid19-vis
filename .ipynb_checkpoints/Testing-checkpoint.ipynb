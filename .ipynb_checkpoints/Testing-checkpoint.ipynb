{
 "cells": [
  {
   "cell_type": "code",
   "execution_count": null,
   "metadata": {},
   "outputs": [],
   "source": [
    "import datetime\n",
    "import os\n",
    "import time\n",
    "import joblib\n",
    "import numpy as np\n",
    "import pandas as pd\n",
    "import plotly.graph_objects as go\n",
    "\n",
    "base_url = \"https://raw.githubusercontent.com/CSSEGISandData/COVID-19/master/csse_covid_19_data/csse_covid_19_time_series/\"\n",
    "url = os.path.join(base_url, \"time_series_covid19_\" + \"deaths\" + \"_global.csv\")\n",
    "df = pd.read_csv(url)\n",
    "\n",
    "selected = df.loc[\n",
    "    (df['Country/Region'] == 'Czechia')|\n",
    "    (df['Country/Region'] == 'Germany')|\n",
    "    (df['Country/Region'] == 'Austria')|\n",
    "    (df['Country/Region'] == 'Slovakia')]\n",
    "dates = list(selected)\n",
    "del dates[:4]\n",
    "\n",
    "data= np.delete(selected.to_numpy(), [0,1,2,3], axis=1)\n",
    "data = np.diff(data)\n",
    "\n",
    "\n",
    "fig = go.Figure(data=go.Heatmap(\n",
    "                   z=data,\n",
    "                   x=dates,\n",
    "                   y=['Austria','Czechia','Germany','Slovakia'],\n",
    "                   hoverongaps = False,\n",
    "                   colorscale='Viridis'))\n",
    "fig.show()"
   ]
  },
  {
   "cell_type": "code",
   "execution_count": null,
   "metadata": {},
   "outputs": [],
   "source": [
    "dates = list(df_deaths)\n",
    "del dates[:4]\n",
    "\n",
    "    \n",
    "\n",
    "fig = go.Figure(data=go.Heatmap(\n",
    "                   z=confirmed,\n",
    "                   x=dates,\n",
    "                   y=['South Korea'],\n",
    "                   hoverongaps = False,\n",
    "                   colorscale='Viridis'))\n",
    "fig.show()"
   ]
  }
 ],
 "metadata": {
  "kernelspec": {
   "display_name": "Python 3",
   "language": "python",
   "name": "python3"
  },
  "language_info": {
   "codemirror_mode": {
    "name": "ipython",
    "version": 3
   },
   "file_extension": ".py",
   "mimetype": "text/x-python",
   "name": "python",
   "nbconvert_exporter": "python",
   "pygments_lexer": "ipython3",
   "version": "3.7.6"
  }
 },
 "nbformat": 4,
 "nbformat_minor": 4
}
