{
 "cells": [
  {
   "cell_type": "markdown",
   "metadata": {},
   "source": [
    "# New confirmed cases of COVID-19 and deaths each day"
   ]
  },
  {
   "cell_type": "code",
   "execution_count": null,
   "metadata": {},
   "outputs": [],
   "source": [
    "# TO DO: create setup.py and .py file with functions"
   ]
  },
  {
   "cell_type": "code",
   "execution_count": null,
   "metadata": {},
   "outputs": [],
   "source": [
    "import datetime\n",
    "import os\n",
    "import numpy as np\n",
    "import pandas as pd\n",
    "import plotly.graph_objects as go\n",
    "import ipywidgets as widgets"
   ]
  },
  {
   "cell_type": "code",
   "execution_count": null,
   "metadata": {},
   "outputs": [],
   "source": [
    "nPerPopulation = 100000\n",
    "fromTotalCases = 0\n",
    "nDaysAverage = 7\n",
    "\n",
    "base_url = \"https://opendata.ecdc.europa.eu/covid19/casedistribution/csv\"\n",
    "df = pd.read_csv(base_url)\n",
    "\n",
    "# sort from the oldest time data to the most recent\n",
    "df['dateRep' ] = pd.to_datetime(df.dateRep, format='%d/%m/%Y')\n",
    "df = df.sort_values(by=['countriesAndTerritories','dateRep'])\n",
    "\n",
    "df_grouped = df.groupby('countriesAndTerritories')"
   ]
  },
  {
   "cell_type": "code",
   "execution_count": null,
   "metadata": {},
   "outputs": [],
   "source": [
    "def getNDayAverage(values, nDays):\n",
    "    averaged = []\n",
    "    for i, value in enumerate(values):\n",
    "        dayIndex = 1\n",
    "        toAverage = []\n",
    "        while (i - dayIndex > 0) & (dayIndex <= nDays):\n",
    "            toAverage.append(values[i - dayIndex])\n",
    "            dayIndex += 1\n",
    "        if len(toAverage) > 0:\n",
    "            averaged.append(np.mean(toAverage))\n",
    "    return np.array(averaged) \n",
    "\n",
    "def prepareData(df):\n",
    "    # TO DO data as an dict???\n",
    "    data = {}\n",
    "    countryDict = {}\n",
    "\n",
    "    for name, group in df:\n",
    "        totalCases = 0\n",
    "        cases = []\n",
    "        deaths = []\n",
    "        dates = []\n",
    "\n",
    "        for i, row in group.iterrows():\n",
    "            if totalCases <= fromTotalCases:\n",
    "                totalCases += row['cases'] \n",
    "            if totalCases >= fromTotalCases:\n",
    "                cases.append(row['cases'])\n",
    "                deaths.append(row['deaths'])\n",
    "                dates.append(row['dateRep'])\n",
    "\n",
    "        data[name.replace(\"_\", \" \")] = { \n",
    "            \"casesAveraged\": getNDayAverage(cases, nDaysAverage),\n",
    "            \"deathsAveraged\": getNDayAverage(deaths, nDaysAverage),\n",
    "            \"dates\": dates, \n",
    "            \"popData2018\": group[\"popData2018\"].iloc[0]\n",
    "        }\n",
    "        countryDict[name.replace(\"_\", \" \")] = name\n",
    "    return data, countryDict\n",
    "\n",
    "data, countryDict = prepareData(df_grouped)\n",
    "selectedCountries = [\"Czechia\", \"Germany\", \"Switzerland\", \"Austria\",\"Italy\", \"Germany\", \"France\", \"Sweden\",\"Belgium\",\"United States of America\",\"Spain\"]\n",
    "fig = go.Figure()"
   ]
  },
  {
   "cell_type": "markdown",
   "metadata": {},
   "source": [
    "## Optional interactive checkbox for countries\n",
    "When not run, default list of countries is used instead"
   ]
  },
  {
   "cell_type": "code",
   "execution_count": null,
   "metadata": {},
   "outputs": [],
   "source": [
    "# simple checkbox for countries\n",
    "# TO DO: add select all, select none, automatically redraw graph\n",
    "names = []\n",
    "checkbox_objects = []\n",
    "selectedDefaultCountries = selectedCountries\n",
    "\n",
    "def select_data(**kwargs):\n",
    "    selectedCountries.clear()\n",
    "\n",
    "    for key in kwargs:\n",
    "        if kwargs[key] is True:\n",
    "            selectedCountries.append(key)\n",
    "            \n",
    "for country in countryDict:\n",
    "    defaultValue = True if country in selectedDefaultCountries else False\n",
    "    checkbox_objects.append(widgets.Checkbox(value=defaultValue, description=country))\n",
    "    names.append(country)\n",
    "\n",
    "arg_dict = {names[i]: checkbox for i, checkbox in enumerate(checkbox_objects)}\n",
    "ui = widgets.VBox(children=checkbox_objects,layout=widgets.Layout(flex_flow='row wrap'))\n",
    "\n",
    "selectedCountries = []\n",
    "\n",
    "out = widgets.interactive_output(select_data, arg_dict)\n",
    "display(ui, out)"
   ]
  },
  {
   "cell_type": "markdown",
   "metadata": {},
   "source": [
    "## Show figure\n",
    "You have to manually run the bellow cell after each change when interactive checkbox for countries is used"
   ]
  },
  {
   "cell_type": "code",
   "execution_count": null,
   "metadata": {},
   "outputs": [],
   "source": [
    "fig = go.Figure()\n",
    "for countryName, countryData in data.items():\n",
    "#     if countryData[\"popData2018\"] > 1000000:\n",
    "    if countryName in selectedCountries:\n",
    "        fig.add_trace(go.Scatter(\n",
    "            x=countryData[\"deathsAveraged\"]*nPerPopulation/countryData[\"popData2018\"], \n",
    "            y=countryData[\"casesAveraged\"]*nPerPopulation/countryData[\"popData2018\"],\n",
    "            line_shape='spline',\n",
    "            name=countryName,\n",
    "            hovertemplate =\n",
    "                '<b>{}</b>'.format(countryName)+\n",
    "                '<br>Cases: %{y:.2f}'+\n",
    "                '<br>Deaths: %{x:.2f}'+\n",
    "                '<br>%{text}',\n",
    "            text = [f\"Date: {countryData['dates'][i].strftime('%b %d %Y')}<br> {i} days after first 10 confirmed cases\" for i in range(countryData[\"casesAveraged\"].shape[0])],\n",
    "        ))\n",
    "fig.update_layout(title=f\"New confirmed cases and deaths each day ({nDaysAverage}-day-average), per {nPerPopulation} population\",\n",
    "                   xaxis_title='Deaths',\n",
    "                   yaxis_title='Confirmed Cases')\n",
    "fig.show()"
   ]
  },
  {
   "cell_type": "code",
   "execution_count": null,
   "metadata": {},
   "outputs": [],
   "source": [
    "# TO DO: Choose entire continet e.g. Africa"
   ]
  },
  {
   "cell_type": "markdown",
   "metadata": {},
   "source": [
    "## Show animated figure"
   ]
  },
  {
   "cell_type": "code",
   "execution_count": null,
   "metadata": {},
   "outputs": [],
   "source": [
    "# Animation\n",
    "# https://community.plotly.com/t/cumulative-lines-animation-in-python/25707/2\n",
    "# https://plotly.com/python/animations/\n",
    "\n",
    "# TO DO: when it should start.. after x cases or from certain date\n",
    "# TO DO: graph ranges automatically\n",
    "\n",
    "starting_index_date = 60\n",
    "dates_len = len(data[\"Czechia\"][\"casesAveraged\"])\n",
    "\n",
    "sliders = dict(\n",
    "    active= 0,\n",
    "    yanchor= \"top\",\n",
    "    xanchor= \"left\",\n",
    "    currentvalue= dict(\n",
    "        font= {\"size\": 20},\n",
    "        prefix= \"Date:\",\n",
    "        visible= True,\n",
    "        xanchor= \"right\"),\n",
    "    transition= {\"duration\": 200, \"easing\": \"cubic-in-out\"},\n",
    "    pad= {\"b\": 10, \"t\": 50},\n",
    "    len= 0.9,\n",
    "    x= 0.1,\n",
    "    y= 0,\n",
    "    steps= [dict(args=[\n",
    "        [idx+starting_index_date],\n",
    "        dict(frame= dict(duration= 300, redraw = False),\n",
    "         mode= \"immediate\",\n",
    "         transition=  dict(duration= 100))],\n",
    "        label= date.strftime(\"%m/%d\"),\n",
    "        method = \"animate\") for idx, date in enumerate(data[\"Czechia\"][\"dates\"][starting_index_date:])])\n",
    "\n",
    "\n",
    "traces = [go.Scatter(x=countryData[\"deathsAveraged\"][starting_index_date:starting_index_date+1]*nPerPopulation/countryData[\"popData2018\"],\n",
    "                     y=countryData[\"casesAveraged\"][starting_index_date:starting_index_date+1]*nPerPopulation/countryData[\"popData2018\"],\n",
    "                     line_shape='spline',\n",
    "                     mode='lines',\n",
    "                     name=countryName,\n",
    "                     hovertemplate =\n",
    "                        '<b>{}</b>'.format(countryName)+\n",
    "                        '<br>Cases: %{y:.2f}'+\n",
    "                        '<br>Deaths: %{x:.2f}'+\n",
    "                        '<br>%{text}',\n",
    "#                         text = [f\"Date: {countryData['dates'][i].strftime('%b %d %Y')}<br> {i} days after first 10 confirmed cases\" for i in range(countryData[\"casesAveraged\"].shape[0])],\n",
    "                    )for countryName, countryData in data.items() if countryName in selectedCountries]\n",
    "\n",
    "frames = [dict(data= [dict(type='scatter',\n",
    "                            x=countryData[\"deathsAveraged\"][starting_index_date:k+1]*nPerPopulation/countryData[\"popData2018\"],\n",
    "                            y=countryData[\"casesAveraged\"][starting_index_date:k+1]*nPerPopulation/countryData[\"popData2018\"]\n",
    "                            ) for countryName, countryData in data.items() if countryName in selectedCountries],\n",
    "               traces= list(range(0, len(selectedCountries)+1)),  #this means that  frames[k]['data'][0]  updates trace1, and   frames[k]['data'][1], trace2 \n",
    "               name = k\n",
    "              )for k  in  range(starting_index_date+1, dates_len)] \n",
    "\n",
    "layout = go.Layout(title=f\"New confirmed cases and deaths each day ({nDaysAverage}-day-average), per {nPerPopulation} population\",\n",
    "                   xaxis_title='Deaths',\n",
    "                   yaxis_title='Confirmed Cases',\n",
    "                   hovermode='closest',\n",
    "                   updatemenus=[dict(type='buttons', showactive=False,\n",
    "                                     direction= \"left\",\n",
    "                                     pad={\"r\": 10, \"t\": 87},\n",
    "                                     y=0,\n",
    "                                     x=0.1,\n",
    "                                     xanchor='right',\n",
    "                                     yanchor='top',\n",
    "                                     buttons=[dict(label='Play',\n",
    "                                                  method='animate',\n",
    "                                                  args=[None, \n",
    "                                                        dict(frame=dict(duration=200,redraw=False),\n",
    "                                                             transition=dict(duration=100, easing = \"quadratic-in-out\"),\n",
    "                                                             fromcurrent=True,\n",
    "                                                             mode='immediate')]),\n",
    "                                             dict(label='Pause',\n",
    "                                              method='animate',\n",
    "                                              args=[[None], \n",
    "                                                    dict(frame=dict(duration=0,redraw=False),\n",
    "                                                         transition=dict(duration=0),\n",
    "                                                         mode='immediate')])\n",
    "                                            ])])\n",
    "\n",
    "\n",
    "\n",
    "layout.update(xaxis =dict(range=[0,3], autorange=False),\n",
    "              yaxis =dict(range=[0,20], autorange=False),\n",
    "             sliders = [sliders]);\n",
    "fig = go.Figure(data=traces, frames=frames, layout=layout)\n",
    "fig.show()"
   ]
  },
  {
   "cell_type": "markdown",
   "metadata": {},
   "source": [
    "## Export chart to .html"
   ]
  },
  {
   "cell_type": "code",
   "execution_count": null,
   "metadata": {},
   "outputs": [],
   "source": [
    "fig.write_html(\"cases-deaths.html\")"
   ]
  }
 ],
 "metadata": {
  "kernelspec": {
   "display_name": "Python 3",
   "language": "python",
   "name": "python3"
  },
  "language_info": {
   "codemirror_mode": {
    "name": "ipython",
    "version": 3
   },
   "file_extension": ".py",
   "mimetype": "text/x-python",
   "name": "python",
   "nbconvert_exporter": "python",
   "pygments_lexer": "ipython3",
   "version": "3.7.6"
  }
 },
 "nbformat": 4,
 "nbformat_minor": 4
}
