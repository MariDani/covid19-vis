{
 "cells": [
  {
   "cell_type": "code",
   "execution_count": 1,
   "metadata": {},
   "outputs": [],
   "source": [
    "import datetime\n",
    "import os\n",
    "import numpy as np\n",
    "import pandas as pd\n",
    "import plotly.graph_objects as go"
   ]
  },
  {
   "cell_type": "code",
   "execution_count": 116,
   "metadata": {},
   "outputs": [],
   "source": [
    "# TO DO: create setup.py and .py file with functions\n",
    "\n",
    "base_url = \"https://opendata.ecdc.europa.eu/covid19/casedistribution/csv\"\n",
    "df = pd.read_csv(base_url)\n",
    "\n",
    "# sort from the oldest time data to the most recent\n",
    "df['dateRep' ] = pd.to_datetime(df.dateRep, format='%d/%m/%Y')\n",
    "df = df.sort_values(by=['countriesAndTerritories','dateRep'])\n",
    "\n",
    "df_grouped = df.groupby('countriesAndTerritories')"
   ]
  },
  {
   "cell_type": "code",
   "execution_count": 120,
   "metadata": {},
   "outputs": [],
   "source": [
    "def getNDayAverage(values, nDays):\n",
    "    averaged = []\n",
    "    for i, value in enumerate(values):\n",
    "        dayIndex = 1\n",
    "        toAverage = []\n",
    "        while (i - dayIndex > 0) & (dayIndex <= nDays):\n",
    "            toAverage.append(values[i - dayIndex])\n",
    "            dayIndex += 1\n",
    "        if len(toAverage) > 0:\n",
    "            averaged.append(np.mean(toAverage))\n",
    "    return np.array(averaged) \n",
    "\n",
    "def prepareData(df):\n",
    "    # TO DO data as an dict???\n",
    "    data = {}\n",
    "\n",
    "    for name, group in df:\n",
    "        totalCases = 0\n",
    "        cases = []\n",
    "        deaths = []\n",
    "        dates = []\n",
    "\n",
    "        for i, row in group.iterrows():\n",
    "            if totalCases <= fromTotalCases:\n",
    "                totalCases += row['cases'] \n",
    "            if totalCases >= fromTotalCases:\n",
    "                cases.append(row['cases'])\n",
    "                deaths.append(row['deaths'])\n",
    "                dates.append(row['dateRep'])\n",
    "\n",
    "        data[name] = { \n",
    "            \"casesAveraged\": getNDayAverage(cases, nDaysAverage),\n",
    "            \"deathsAveraged\": getNDayAverage(deaths, nDaysAverage),\n",
    "            \"dates\": dates, \n",
    "            \"popData2018\": group[\"popData2018\"].iloc[0]\n",
    "        }  \n",
    "    return data\n",
    "\n",
    "# get averaged cases and deaths lists, count data after first n confirmed cases\n",
    "fromTotalCases = 10\n",
    "nDaysAverage = 7\n",
    "data = prepareData(df_grouped)"
   ]
  },
  {
   "cell_type": "code",
   "execution_count": 121,
   "metadata": {},
   "outputs": [],
   "source": [
    "# TO DO: user selected countries from given list\n",
    "selectedCountries = [\"Czechia\", \"Sweden\", \"Germany\", \"Switzerland\", \"Austria\", \"Italy\", \"Germany\", \"France\", \"United_States_of_America\",\"Spain\"]\n",
    "nPerPopulation = 100000"
   ]
  },
  {
   "cell_type": "code",
   "execution_count": 122,
   "metadata": {},
   "outputs": [
    {
     "data": {
      "application/vnd.plotly.v1+json": {
       "config": {
        "plotlyServerURL": "https://plot.ly"
       },
       "data": [
        {
         "hovertemplate": "<b>Austria</b><br>Cases: %{y:.2f}<br>Deaths: %{x:.2f}<br>%{text}",
         "line": {
          "shape": "spline"
         },
         "name": "Austria",
         "text": [
          "Date: Mar 01 2020<br> 0 days after first 10 confirmed cases",
          "Date: Mar 02 2020<br> 1 days after first 10 confirmed cases",
          "Date: Mar 03 2020<br> 2 days after first 10 confirmed cases",
          "Date: Mar 04 2020<br> 3 days after first 10 confirmed cases",
          "Date: Mar 05 2020<br> 4 days after first 10 confirmed cases",
          "Date: Mar 06 2020<br> 5 days after first 10 confirmed cases",
          "Date: Mar 07 2020<br> 6 days after first 10 confirmed cases",
          "Date: Mar 08 2020<br> 7 days after first 10 confirmed cases",
          "Date: Mar 09 2020<br> 8 days after first 10 confirmed cases",
          "Date: Mar 10 2020<br> 9 days after first 10 confirmed cases",
          "Date: Mar 11 2020<br> 10 days after first 10 confirmed cases",
          "Date: Mar 12 2020<br> 11 days after first 10 confirmed cases",
          "Date: Mar 13 2020<br> 12 days after first 10 confirmed cases",
          "Date: Mar 14 2020<br> 13 days after first 10 confirmed cases",
          "Date: Mar 15 2020<br> 14 days after first 10 confirmed cases",
          "Date: Mar 16 2020<br> 15 days after first 10 confirmed cases",
          "Date: Mar 17 2020<br> 16 days after first 10 confirmed cases",
          "Date: Mar 18 2020<br> 17 days after first 10 confirmed cases",
          "Date: Mar 19 2020<br> 18 days after first 10 confirmed cases",
          "Date: Mar 20 2020<br> 19 days after first 10 confirmed cases",
          "Date: Mar 21 2020<br> 20 days after first 10 confirmed cases",
          "Date: Mar 22 2020<br> 21 days after first 10 confirmed cases",
          "Date: Mar 23 2020<br> 22 days after first 10 confirmed cases",
          "Date: Mar 24 2020<br> 23 days after first 10 confirmed cases",
          "Date: Mar 25 2020<br> 24 days after first 10 confirmed cases",
          "Date: Mar 26 2020<br> 25 days after first 10 confirmed cases",
          "Date: Mar 27 2020<br> 26 days after first 10 confirmed cases",
          "Date: Mar 28 2020<br> 27 days after first 10 confirmed cases",
          "Date: Mar 29 2020<br> 28 days after first 10 confirmed cases",
          "Date: Mar 30 2020<br> 29 days after first 10 confirmed cases",
          "Date: Mar 31 2020<br> 30 days after first 10 confirmed cases",
          "Date: Apr 01 2020<br> 31 days after first 10 confirmed cases",
          "Date: Apr 02 2020<br> 32 days after first 10 confirmed cases",
          "Date: Apr 03 2020<br> 33 days after first 10 confirmed cases",
          "Date: Apr 04 2020<br> 34 days after first 10 confirmed cases",
          "Date: Apr 05 2020<br> 35 days after first 10 confirmed cases",
          "Date: Apr 06 2020<br> 36 days after first 10 confirmed cases",
          "Date: Apr 07 2020<br> 37 days after first 10 confirmed cases",
          "Date: Apr 08 2020<br> 38 days after first 10 confirmed cases",
          "Date: Apr 09 2020<br> 39 days after first 10 confirmed cases",
          "Date: Apr 10 2020<br> 40 days after first 10 confirmed cases",
          "Date: Apr 11 2020<br> 41 days after first 10 confirmed cases",
          "Date: Apr 12 2020<br> 42 days after first 10 confirmed cases",
          "Date: Apr 13 2020<br> 43 days after first 10 confirmed cases",
          "Date: Apr 14 2020<br> 44 days after first 10 confirmed cases",
          "Date: Apr 15 2020<br> 45 days after first 10 confirmed cases",
          "Date: Apr 16 2020<br> 46 days after first 10 confirmed cases",
          "Date: Apr 17 2020<br> 47 days after first 10 confirmed cases",
          "Date: Apr 18 2020<br> 48 days after first 10 confirmed cases",
          "Date: Apr 19 2020<br> 49 days after first 10 confirmed cases"
         ],
         "type": "scatter",
         "x": [
          0,
          0,
          0,
          0,
          0,
          0,
          0,
          0,
          0,
          0,
          0,
          0.0016147456245197442,
          0.0016147456245197442,
          0.0016147456245197442,
          0.0016147456245197442,
          0.004844236873559233,
          0.004844236873559233,
          0.006458982498078977,
          0.008073728122598723,
          0.008073728122598723,
          0.011303219371638211,
          0.024221184367796165,
          0.03552440373943437,
          0.0435981318620331,
          0.04844236873559233,
          0.07427829872790824,
          0.10011422872022416,
          0.09688473747118466,
          0.11303219371638211,
          0.13402388683513877,
          0.15824507120293496,
          0.18085150994621138,
          0.1711630361990929,
          0.16147456245197445,
          0.19053998369332983,
          0.19053998369332983,
          0.18085150994621138,
          0.18569574681977058,
          0.20507269431400754,
          0.221220150559205,
          0.2438265893024814,
          0.2438265893024814,
          0.23575286117988267,
          0.23898235242892216,
          0.22767913305728396,
          0.19376947494236932,
          0.18569574681977058,
          0.18085150994621138,
          0.1711630361990929,
          0.1647040537010139
         ],
         "y": [
          0.045212877486552845,
          0.045212877486552845,
          0.05274835706764498,
          0.0536902920152815,
          0.0700799601041569,
          0.12056767329747423,
          0.14371236058225725,
          0.14209761495773748,
          0.18246625557073112,
          0.2551298086741196,
          0.3503998005207845,
          0.5167185998463183,
          0.69434061854349,
          0.8977985672329779,
          1.2239771833859663,
          1.4290498776999738,
          1.856957468197706,
          2.2606438743276422,
          2.963058220993731,
          3.463629364594852,
          3.8253323844872744,
          4.474460125544211,
          5.603167317083513,
          6.37824521685299,
          6.849750939212756,
          7.8040656033039255,
          8.15123591257567,
          8.504865204345494,
          8.367611826261315,
          8.286874545035328,
          7.912253560146747,
          7.787918147058727,
          6.620457060530952,
          6.181246250661582,
          5.611241045206111,
          5.1187436297275895,
          4.3259035280883955,
          3.969044745069532,
          3.6460956201655823,
          3.421645978357338,
          3.28600734589768,
          3.295695819644798,
          3.1552129503115807,
          2.8193458604114734,
          2.5739045254844726,
          2.2622586199521617,
          1.9376947494236931,
          1.6841796863740934,
          1.3806075089643814,
          1.2481983677537625
         ]
        },
        {
         "hovertemplate": "<b>Czechia</b><br>Cases: %{y:.2f}<br>Deaths: %{x:.2f}<br>%{text}",
         "line": {
          "shape": "spline"
         },
         "name": "Czechia",
         "text": [
          "Date: Mar 06 2020<br> 0 days after first 10 confirmed cases",
          "Date: Mar 07 2020<br> 1 days after first 10 confirmed cases",
          "Date: Mar 08 2020<br> 2 days after first 10 confirmed cases",
          "Date: Mar 09 2020<br> 3 days after first 10 confirmed cases",
          "Date: Mar 10 2020<br> 4 days after first 10 confirmed cases",
          "Date: Mar 11 2020<br> 5 days after first 10 confirmed cases",
          "Date: Mar 12 2020<br> 6 days after first 10 confirmed cases",
          "Date: Mar 13 2020<br> 7 days after first 10 confirmed cases",
          "Date: Mar 14 2020<br> 8 days after first 10 confirmed cases",
          "Date: Mar 15 2020<br> 9 days after first 10 confirmed cases",
          "Date: Mar 16 2020<br> 10 days after first 10 confirmed cases",
          "Date: Mar 17 2020<br> 11 days after first 10 confirmed cases",
          "Date: Mar 18 2020<br> 12 days after first 10 confirmed cases",
          "Date: Mar 19 2020<br> 13 days after first 10 confirmed cases",
          "Date: Mar 20 2020<br> 14 days after first 10 confirmed cases",
          "Date: Mar 21 2020<br> 15 days after first 10 confirmed cases",
          "Date: Mar 22 2020<br> 16 days after first 10 confirmed cases",
          "Date: Mar 23 2020<br> 17 days after first 10 confirmed cases",
          "Date: Mar 24 2020<br> 18 days after first 10 confirmed cases",
          "Date: Mar 25 2020<br> 19 days after first 10 confirmed cases",
          "Date: Mar 26 2020<br> 20 days after first 10 confirmed cases",
          "Date: Mar 27 2020<br> 21 days after first 10 confirmed cases",
          "Date: Mar 28 2020<br> 22 days after first 10 confirmed cases",
          "Date: Mar 29 2020<br> 23 days after first 10 confirmed cases",
          "Date: Mar 30 2020<br> 24 days after first 10 confirmed cases",
          "Date: Mar 31 2020<br> 25 days after first 10 confirmed cases",
          "Date: Apr 01 2020<br> 26 days after first 10 confirmed cases",
          "Date: Apr 02 2020<br> 27 days after first 10 confirmed cases",
          "Date: Apr 03 2020<br> 28 days after first 10 confirmed cases",
          "Date: Apr 04 2020<br> 29 days after first 10 confirmed cases",
          "Date: Apr 05 2020<br> 30 days after first 10 confirmed cases",
          "Date: Apr 06 2020<br> 31 days after first 10 confirmed cases",
          "Date: Apr 07 2020<br> 32 days after first 10 confirmed cases",
          "Date: Apr 08 2020<br> 33 days after first 10 confirmed cases",
          "Date: Apr 09 2020<br> 34 days after first 10 confirmed cases",
          "Date: Apr 10 2020<br> 35 days after first 10 confirmed cases",
          "Date: Apr 11 2020<br> 36 days after first 10 confirmed cases",
          "Date: Apr 12 2020<br> 37 days after first 10 confirmed cases",
          "Date: Apr 13 2020<br> 38 days after first 10 confirmed cases",
          "Date: Apr 14 2020<br> 39 days after first 10 confirmed cases",
          "Date: Apr 15 2020<br> 40 days after first 10 confirmed cases",
          "Date: Apr 16 2020<br> 41 days after first 10 confirmed cases",
          "Date: Apr 17 2020<br> 42 days after first 10 confirmed cases",
          "Date: Apr 18 2020<br> 43 days after first 10 confirmed cases",
          "Date: Apr 19 2020<br> 44 days after first 10 confirmed cases"
         ],
         "type": "scatter",
         "x": [
          0,
          0,
          0,
          0,
          0,
          0,
          0,
          0,
          0,
          0,
          0,
          0,
          0,
          0,
          0,
          0,
          0.0013444498722873454,
          0.0013444498722873454,
          0.004033349616862037,
          0.008066699233724073,
          0.01210004885058611,
          0.01210004885058611,
          0.014788948595160799,
          0.020166748084310182,
          0.03092234706260895,
          0.037644596424045676,
          0.0443668457854824,
          0.04705574553005709,
          0.059155794380643195,
          0.06453359386979259,
          0.06856694348665461,
          0.07260029310351666,
          0.07663364272037869,
          0.08066699233724073,
          0.0914225913155395,
          0.0887336915709648,
          0.09411149106011418,
          0.09545594093240152,
          0.08738924169867747,
          0.09814484067697622,
          0.09007814144325214,
          0.07663364272037869,
          0.07260029310351666,
          0.06991139335894196,
          0.06722249361436727
         ],
         "y": [
          0.06587804374207994,
          0.06587804374207994,
          0.06274099404007613,
          0.06587804374207994,
          0.09599372088131645,
          0.12861903778215603,
          0.13982278671788392,
          0.1761229332696423,
          0.252756575990021,
          0.35762366602843393,
          0.40871276117535305,
          0.4987909026186052,
          0.5754245453389839,
          0.7770920261820857,
          1.0137152037046584,
          1.0500153502564167,
          1.1656380392731285,
          1.1992492860803123,
          1.2906718773958517,
          1.5219172554292753,
          1.8392074252890886,
          1.8486185743951,
          2.2425423869752925,
          2.2371645874861428,
          2.374298474459452,
          2.5732770555579796,
          2.601510502876014,
          2.414631970628072,
          2.5692437059411173,
          2.4321098189678083,
          2.363542875481153,
          2.4468987675629688,
          2.2976648317390733,
          2.316487129951096,
          2.300353731483648,
          2.073141703067087,
          1.922563317370904,
          1.8876076206914332,
          1.6630844920194463,
          1.5111616564509764,
          1.3323498234367595,
          1.1616046896562666,
          1.0984155456587612,
          1.011026303960084,
          1.070182098340727
         ]
        },
        {
         "hovertemplate": "<b>France</b><br>Cases: %{y:.2f}<br>Deaths: %{x:.2f}<br>%{text}",
         "line": {
          "shape": "spline"
         },
         "name": "France",
         "text": [
          "Date: Feb 08 2020<br> 0 days after first 10 confirmed cases",
          "Date: Feb 09 2020<br> 1 days after first 10 confirmed cases",
          "Date: Feb 10 2020<br> 2 days after first 10 confirmed cases",
          "Date: Feb 11 2020<br> 3 days after first 10 confirmed cases",
          "Date: Feb 12 2020<br> 4 days after first 10 confirmed cases",
          "Date: Feb 13 2020<br> 5 days after first 10 confirmed cases",
          "Date: Feb 14 2020<br> 6 days after first 10 confirmed cases",
          "Date: Feb 15 2020<br> 7 days after first 10 confirmed cases",
          "Date: Feb 16 2020<br> 8 days after first 10 confirmed cases",
          "Date: Feb 17 2020<br> 9 days after first 10 confirmed cases",
          "Date: Feb 18 2020<br> 10 days after first 10 confirmed cases",
          "Date: Feb 19 2020<br> 11 days after first 10 confirmed cases",
          "Date: Feb 20 2020<br> 12 days after first 10 confirmed cases",
          "Date: Feb 21 2020<br> 13 days after first 10 confirmed cases",
          "Date: Feb 22 2020<br> 14 days after first 10 confirmed cases",
          "Date: Feb 23 2020<br> 15 days after first 10 confirmed cases",
          "Date: Feb 24 2020<br> 16 days after first 10 confirmed cases",
          "Date: Feb 25 2020<br> 17 days after first 10 confirmed cases",
          "Date: Feb 26 2020<br> 18 days after first 10 confirmed cases",
          "Date: Feb 27 2020<br> 19 days after first 10 confirmed cases",
          "Date: Feb 28 2020<br> 20 days after first 10 confirmed cases",
          "Date: Feb 29 2020<br> 21 days after first 10 confirmed cases",
          "Date: Mar 01 2020<br> 22 days after first 10 confirmed cases",
          "Date: Mar 02 2020<br> 23 days after first 10 confirmed cases",
          "Date: Mar 03 2020<br> 24 days after first 10 confirmed cases",
          "Date: Mar 04 2020<br> 25 days after first 10 confirmed cases",
          "Date: Mar 05 2020<br> 26 days after first 10 confirmed cases",
          "Date: Mar 06 2020<br> 27 days after first 10 confirmed cases",
          "Date: Mar 07 2020<br> 28 days after first 10 confirmed cases",
          "Date: Mar 08 2020<br> 29 days after first 10 confirmed cases",
          "Date: Mar 09 2020<br> 30 days after first 10 confirmed cases",
          "Date: Mar 10 2020<br> 31 days after first 10 confirmed cases",
          "Date: Mar 11 2020<br> 32 days after first 10 confirmed cases",
          "Date: Mar 12 2020<br> 33 days after first 10 confirmed cases",
          "Date: Mar 13 2020<br> 34 days after first 10 confirmed cases",
          "Date: Mar 14 2020<br> 35 days after first 10 confirmed cases",
          "Date: Mar 15 2020<br> 36 days after first 10 confirmed cases",
          "Date: Mar 16 2020<br> 37 days after first 10 confirmed cases",
          "Date: Mar 17 2020<br> 38 days after first 10 confirmed cases",
          "Date: Mar 18 2020<br> 39 days after first 10 confirmed cases",
          "Date: Mar 19 2020<br> 40 days after first 10 confirmed cases",
          "Date: Mar 20 2020<br> 41 days after first 10 confirmed cases",
          "Date: Mar 21 2020<br> 42 days after first 10 confirmed cases",
          "Date: Mar 22 2020<br> 43 days after first 10 confirmed cases",
          "Date: Mar 23 2020<br> 44 days after first 10 confirmed cases",
          "Date: Mar 24 2020<br> 45 days after first 10 confirmed cases",
          "Date: Mar 25 2020<br> 46 days after first 10 confirmed cases",
          "Date: Mar 26 2020<br> 47 days after first 10 confirmed cases",
          "Date: Mar 27 2020<br> 48 days after first 10 confirmed cases",
          "Date: Mar 28 2020<br> 49 days after first 10 confirmed cases",
          "Date: Mar 29 2020<br> 50 days after first 10 confirmed cases",
          "Date: Mar 30 2020<br> 51 days after first 10 confirmed cases",
          "Date: Mar 31 2020<br> 52 days after first 10 confirmed cases",
          "Date: Apr 01 2020<br> 53 days after first 10 confirmed cases",
          "Date: Apr 02 2020<br> 54 days after first 10 confirmed cases",
          "Date: Apr 03 2020<br> 55 days after first 10 confirmed cases",
          "Date: Apr 04 2020<br> 56 days after first 10 confirmed cases",
          "Date: Apr 05 2020<br> 57 days after first 10 confirmed cases",
          "Date: Apr 06 2020<br> 58 days after first 10 confirmed cases",
          "Date: Apr 07 2020<br> 59 days after first 10 confirmed cases",
          "Date: Apr 08 2020<br> 60 days after first 10 confirmed cases",
          "Date: Apr 09 2020<br> 61 days after first 10 confirmed cases",
          "Date: Apr 10 2020<br> 62 days after first 10 confirmed cases",
          "Date: Apr 11 2020<br> 63 days after first 10 confirmed cases",
          "Date: Apr 12 2020<br> 64 days after first 10 confirmed cases",
          "Date: Apr 13 2020<br> 65 days after first 10 confirmed cases",
          "Date: Apr 14 2020<br> 66 days after first 10 confirmed cases",
          "Date: Apr 15 2020<br> 67 days after first 10 confirmed cases",
          "Date: Apr 16 2020<br> 68 days after first 10 confirmed cases",
          "Date: Apr 17 2020<br> 69 days after first 10 confirmed cases",
          "Date: Apr 18 2020<br> 70 days after first 10 confirmed cases",
          "Date: Apr 19 2020<br> 71 days after first 10 confirmed cases"
         ],
         "type": "scatter",
         "x": [
          0,
          0,
          0,
          0,
          0,
          0,
          0.00021326021840388425,
          0.00021326021840388425,
          0.00021326021840388425,
          0.00021326021840388425,
          0.00021326021840388425,
          0.00021326021840388425,
          0.00021326021840388425,
          0,
          0,
          0,
          0,
          0,
          0.00021326021840388425,
          0.00021326021840388425,
          0.00021326021840388425,
          0.00021326021840388425,
          0.00021326021840388425,
          0.0004265204368077685,
          0.0006397806552116528,
          0.0004265204368077685,
          0.0010663010920194213,
          0.0014928215288271898,
          0.001706081747231074,
          0.0036254237128660323,
          0.005758025896904876,
          0.006184546333712644,
          0.009383449609770908,
          0.011516051793809752,
          0.0149282152882719,
          0.017274077690714623,
          0.023032103587619503,
          0.025164705771658344,
          0.030282951013351562,
          0.04179900280716132,
          0.066323927923608,
          0.07911954102784106,
          0.10044556286822949,
          0.11665333946692469,
          0.15184127550356558,
          0.19726570202359295,
          0.23181385740502217,
          0.28235652916674275,
          0.3294870374340012,
          0.37363190264360524,
          0.4120187419563044,
          0.46149511262600557,
          0.5167295091926116,
          0.5760158499088913,
          0.5986214330597032,
          0.9622301054383258,
          1.1187631057467768,
          1.1669599151060546,
          1.2554629057436666,
          1.4512357862384324,
          1.4580601132273567,
          1.643596503238736,
          1.4267108611219856,
          1.3375680898291622,
          1.3467382792205291,
          1.2915038826539231,
          1.151818439599379,
          1.343112855507663,
          1.217715847086179,
          1.1695190377269014,
          1.1710118592557286,
          1.1356106630006837
         ],
         "y": [
          0,
          0,
          0,
          0,
          0,
          0,
          0,
          0,
          0.00021326021840388425,
          0.00021326021840388425,
          0.00021326021840388425,
          0.00021326021840388425,
          0.00021326021840388425,
          0.00021326021840388425,
          0.00021326021840388425,
          0,
          0,
          0.0004265204368077685,
          0.0010663010920194213,
          0.005544765678500991,
          0.009596709828174791,
          0.018766899219541815,
          0.025164705771658344,
          0.03540119625504479,
          0.04222552324396908,
          0.05715373853224098,
          0.08210518408549544,
          0.11857268143255965,
          0.13136829453679272,
          0.21240717753026872,
          0.2631631095103932,
          0.3352450633309061,
          0.42566739593415304,
          0.523127315744728,
          0.6500171456950392,
          0.8067634062218941,
          0.9163791584814908,
          1.1134316002866798,
          1.268045258629496,
          1.461472276721819,
          1.7314597132211362,
          1.9088922149331682,
          2.1240717753026876,
          2.259492013989154,
          2.8199398679545618,
          3.1076279025814015,
          3.4332762560841323,
          3.8728055662145384,
          4.3402719649558525,
          4.929723208624188,
          5.151513835764228,
          5.266247833265519,
          6.3606992741142525,
          6.772291495633749,
          6.387143541196334,
          6.690826092203465,
          6.617464577072529,
          6.462637658511308,
          6.363684917171907,
          5.553082827018742,
          5.344087812982935,
          5.806862486919364,
          5.6168476323215035,
          5.370958600501825,
          5.3155109437168155,
          5.051281533114403,
          5.418089108769084,
          5.151940356201036,
          4.801127296926647,
          3.961521817070554,
          3.845294998040437,
          3.668715537202021
         ]
        },
        {
         "hovertemplate": "<b>Germany</b><br>Cases: %{y:.2f}<br>Deaths: %{x:.2f}<br>%{text}",
         "line": {
          "shape": "spline"
         },
         "name": "Germany",
         "text": [
          "Date: Feb 04 2020<br> 0 days after first 10 confirmed cases",
          "Date: Feb 05 2020<br> 1 days after first 10 confirmed cases",
          "Date: Feb 06 2020<br> 2 days after first 10 confirmed cases",
          "Date: Feb 07 2020<br> 3 days after first 10 confirmed cases",
          "Date: Feb 08 2020<br> 4 days after first 10 confirmed cases",
          "Date: Feb 09 2020<br> 5 days after first 10 confirmed cases",
          "Date: Feb 10 2020<br> 6 days after first 10 confirmed cases",
          "Date: Feb 11 2020<br> 7 days after first 10 confirmed cases",
          "Date: Feb 12 2020<br> 8 days after first 10 confirmed cases",
          "Date: Feb 13 2020<br> 9 days after first 10 confirmed cases",
          "Date: Feb 14 2020<br> 10 days after first 10 confirmed cases",
          "Date: Feb 15 2020<br> 11 days after first 10 confirmed cases",
          "Date: Feb 16 2020<br> 12 days after first 10 confirmed cases",
          "Date: Feb 17 2020<br> 13 days after first 10 confirmed cases",
          "Date: Feb 18 2020<br> 14 days after first 10 confirmed cases",
          "Date: Feb 19 2020<br> 15 days after first 10 confirmed cases",
          "Date: Feb 20 2020<br> 16 days after first 10 confirmed cases",
          "Date: Feb 21 2020<br> 17 days after first 10 confirmed cases",
          "Date: Feb 22 2020<br> 18 days after first 10 confirmed cases",
          "Date: Feb 23 2020<br> 19 days after first 10 confirmed cases",
          "Date: Feb 24 2020<br> 20 days after first 10 confirmed cases",
          "Date: Feb 25 2020<br> 21 days after first 10 confirmed cases",
          "Date: Feb 26 2020<br> 22 days after first 10 confirmed cases",
          "Date: Feb 27 2020<br> 23 days after first 10 confirmed cases",
          "Date: Feb 28 2020<br> 24 days after first 10 confirmed cases",
          "Date: Feb 29 2020<br> 25 days after first 10 confirmed cases",
          "Date: Mar 01 2020<br> 26 days after first 10 confirmed cases",
          "Date: Mar 02 2020<br> 27 days after first 10 confirmed cases",
          "Date: Mar 03 2020<br> 28 days after first 10 confirmed cases",
          "Date: Mar 04 2020<br> 29 days after first 10 confirmed cases",
          "Date: Mar 05 2020<br> 30 days after first 10 confirmed cases",
          "Date: Mar 06 2020<br> 31 days after first 10 confirmed cases",
          "Date: Mar 07 2020<br> 32 days after first 10 confirmed cases",
          "Date: Mar 08 2020<br> 33 days after first 10 confirmed cases",
          "Date: Mar 09 2020<br> 34 days after first 10 confirmed cases",
          "Date: Mar 10 2020<br> 35 days after first 10 confirmed cases",
          "Date: Mar 11 2020<br> 36 days after first 10 confirmed cases",
          "Date: Mar 12 2020<br> 37 days after first 10 confirmed cases",
          "Date: Mar 13 2020<br> 38 days after first 10 confirmed cases",
          "Date: Mar 14 2020<br> 39 days after first 10 confirmed cases",
          "Date: Mar 15 2020<br> 40 days after first 10 confirmed cases",
          "Date: Mar 16 2020<br> 41 days after first 10 confirmed cases",
          "Date: Mar 17 2020<br> 42 days after first 10 confirmed cases",
          "Date: Mar 18 2020<br> 43 days after first 10 confirmed cases",
          "Date: Mar 19 2020<br> 44 days after first 10 confirmed cases",
          "Date: Mar 20 2020<br> 45 days after first 10 confirmed cases",
          "Date: Mar 21 2020<br> 46 days after first 10 confirmed cases",
          "Date: Mar 22 2020<br> 47 days after first 10 confirmed cases",
          "Date: Mar 23 2020<br> 48 days after first 10 confirmed cases",
          "Date: Mar 24 2020<br> 49 days after first 10 confirmed cases",
          "Date: Mar 25 2020<br> 50 days after first 10 confirmed cases",
          "Date: Mar 26 2020<br> 51 days after first 10 confirmed cases",
          "Date: Mar 27 2020<br> 52 days after first 10 confirmed cases",
          "Date: Mar 28 2020<br> 53 days after first 10 confirmed cases",
          "Date: Mar 29 2020<br> 54 days after first 10 confirmed cases",
          "Date: Mar 30 2020<br> 55 days after first 10 confirmed cases",
          "Date: Mar 31 2020<br> 56 days after first 10 confirmed cases",
          "Date: Apr 01 2020<br> 57 days after first 10 confirmed cases",
          "Date: Apr 02 2020<br> 58 days after first 10 confirmed cases",
          "Date: Apr 03 2020<br> 59 days after first 10 confirmed cases",
          "Date: Apr 04 2020<br> 60 days after first 10 confirmed cases",
          "Date: Apr 05 2020<br> 61 days after first 10 confirmed cases",
          "Date: Apr 06 2020<br> 62 days after first 10 confirmed cases",
          "Date: Apr 07 2020<br> 63 days after first 10 confirmed cases",
          "Date: Apr 08 2020<br> 64 days after first 10 confirmed cases",
          "Date: Apr 09 2020<br> 65 days after first 10 confirmed cases",
          "Date: Apr 10 2020<br> 66 days after first 10 confirmed cases",
          "Date: Apr 11 2020<br> 67 days after first 10 confirmed cases",
          "Date: Apr 12 2020<br> 68 days after first 10 confirmed cases",
          "Date: Apr 13 2020<br> 69 days after first 10 confirmed cases",
          "Date: Apr 14 2020<br> 70 days after first 10 confirmed cases",
          "Date: Apr 15 2020<br> 71 days after first 10 confirmed cases",
          "Date: Apr 16 2020<br> 72 days after first 10 confirmed cases",
          "Date: Apr 17 2020<br> 73 days after first 10 confirmed cases",
          "Date: Apr 18 2020<br> 74 days after first 10 confirmed cases",
          "Date: Apr 19 2020<br> 75 days after first 10 confirmed cases"
         ],
         "type": "scatter",
         "x": [
          0,
          0,
          0,
          0,
          0,
          0,
          0,
          0,
          0,
          0,
          0,
          0,
          0,
          0,
          0,
          0,
          0,
          0,
          0,
          0,
          0,
          0,
          0,
          0,
          0,
          0,
          0,
          0,
          0,
          0,
          0,
          0,
          0,
          0,
          0.00034453327519081653,
          0.00034453327519081653,
          0.0005167999127862248,
          0.0008613331879770415,
          0.0008613331879770415,
          0.0013781331007632661,
          0.0020671996511448993,
          0.001894933013549491,
          0.001894933013549491,
          0.001722666375954083,
          0.006546132228625515,
          0.006890665503816332,
          0.010163731618129088,
          0.014125864282823478,
          0.019466130048281138,
          0.023428262712975524,
          0.03186932795515053,
          0.03617599389503574,
          0.04823465852671432,
          0.055469857305721466,
          0.062188256171942395,
          0.0787258533811016,
          0.10043144971812304,
          0.11610771373930519,
          0.13161171112289194,
          0.1434981091169751,
          0.1641701056284241,
          0.1686490382059047,
          0.17640103689769807,
          0.19448903384521593,
          0.21274929743032922,
          0.23359356057937364,
          0.2387615597072359,
          0.2292868946394884,
          0.2351439603177323,
          0.2346271604049461,
          0.23996742617040373,
          0.25185382416448693,
          0.2575386232051354,
          0.26976955447440937,
          0.27924421954215684,
          0.2764879533406303
         ],
         "y": [
          0,
          0,
          0.00040195548772261925,
          0.000602933231583929,
          0.0004823465852671432,
          0.00040195548772261925,
          0.00034453327519081653,
          0.0006890665503816331,
          0.0006890665503816331,
          0.0005167999127862248,
          0.00034453327519081653,
          0.00034453327519081653,
          0.00034453327519081653,
          0.00034453327519081653,
          0,
          0,
          0,
          0,
          0,
          0,
          0,
          0.00034453327519081653,
          0.0010335998255724497,
          0.0055125324030530646,
          0.007235198779007148,
          0.016537597209159195,
          0.019638396685876542,
          0.024461862538547974,
          0.030835728129578084,
          0.0415162596604934,
          0.060810123071179126,
          0.10801118177232098,
          0.1267882452702205,
          0.13316211086125063,
          0.16916583811869093,
          0.18949330135494913,
          0.2248079620620078,
          0.3391930094253589,
          0.40965006420188094,
          0.5078420476312636,
          0.678041485575527,
          0.8394553250024246,
          1.0094824963090925,
          1.1423000738951523,
          2.02740605786036,
          2.60553289363055,
          3.0436069530356735,
          3.4343076871020597,
          3.996585992213472,
          4.202961424052771,
          4.876868510326008,
          4.849305848310743,
          5.236044449712434,
          5.354736163015671,
          5.602800121153059,
          5.633291316007447,
          6.1692128255667615,
          6.376277323956442,
          6.444150379169033,
          6.407629851998806,
          6.747167394699357,
          6.562153025921887,
          6.4276127819598745,
          6.177826157446531,
          5.974206991808759,
          5.8276080832150665,
          5.491860406541616,
          4.95524983043192,
          4.7588658635731536,
          4.457054714505999,
          4.195726225273764,
          3.8325881532226433,
          3.4978740763747656,
          3.407606358274771,
          3.345073568827638,
          3.2138063909799373
         ]
        },
        {
         "hovertemplate": "<b>Italy</b><br>Cases: %{y:.2f}<br>Deaths: %{x:.2f}<br>%{text}",
         "line": {
          "shape": "spline"
         },
         "name": "Italy",
         "text": [
          "Date: Feb 22 2020<br> 0 days after first 10 confirmed cases",
          "Date: Feb 23 2020<br> 1 days after first 10 confirmed cases",
          "Date: Feb 24 2020<br> 2 days after first 10 confirmed cases",
          "Date: Feb 25 2020<br> 3 days after first 10 confirmed cases",
          "Date: Feb 26 2020<br> 4 days after first 10 confirmed cases",
          "Date: Feb 27 2020<br> 5 days after first 10 confirmed cases",
          "Date: Feb 28 2020<br> 6 days after first 10 confirmed cases",
          "Date: Feb 29 2020<br> 7 days after first 10 confirmed cases",
          "Date: Mar 01 2020<br> 8 days after first 10 confirmed cases",
          "Date: Mar 02 2020<br> 9 days after first 10 confirmed cases",
          "Date: Mar 03 2020<br> 10 days after first 10 confirmed cases",
          "Date: Mar 04 2020<br> 11 days after first 10 confirmed cases",
          "Date: Mar 05 2020<br> 12 days after first 10 confirmed cases",
          "Date: Mar 06 2020<br> 13 days after first 10 confirmed cases",
          "Date: Mar 07 2020<br> 14 days after first 10 confirmed cases",
          "Date: Mar 08 2020<br> 15 days after first 10 confirmed cases",
          "Date: Mar 09 2020<br> 16 days after first 10 confirmed cases",
          "Date: Mar 10 2020<br> 17 days after first 10 confirmed cases",
          "Date: Mar 11 2020<br> 18 days after first 10 confirmed cases",
          "Date: Mar 12 2020<br> 19 days after first 10 confirmed cases",
          "Date: Mar 13 2020<br> 20 days after first 10 confirmed cases",
          "Date: Mar 14 2020<br> 21 days after first 10 confirmed cases",
          "Date: Mar 15 2020<br> 22 days after first 10 confirmed cases",
          "Date: Mar 16 2020<br> 23 days after first 10 confirmed cases",
          "Date: Mar 17 2020<br> 24 days after first 10 confirmed cases",
          "Date: Mar 18 2020<br> 25 days after first 10 confirmed cases",
          "Date: Mar 19 2020<br> 26 days after first 10 confirmed cases",
          "Date: Mar 20 2020<br> 27 days after first 10 confirmed cases",
          "Date: Mar 21 2020<br> 28 days after first 10 confirmed cases",
          "Date: Mar 22 2020<br> 29 days after first 10 confirmed cases",
          "Date: Mar 23 2020<br> 30 days after first 10 confirmed cases",
          "Date: Mar 24 2020<br> 31 days after first 10 confirmed cases",
          "Date: Mar 25 2020<br> 32 days after first 10 confirmed cases",
          "Date: Mar 26 2020<br> 33 days after first 10 confirmed cases",
          "Date: Mar 27 2020<br> 34 days after first 10 confirmed cases",
          "Date: Mar 28 2020<br> 35 days after first 10 confirmed cases",
          "Date: Mar 29 2020<br> 36 days after first 10 confirmed cases",
          "Date: Mar 30 2020<br> 37 days after first 10 confirmed cases",
          "Date: Mar 31 2020<br> 38 days after first 10 confirmed cases",
          "Date: Apr 01 2020<br> 39 days after first 10 confirmed cases",
          "Date: Apr 02 2020<br> 40 days after first 10 confirmed cases",
          "Date: Apr 03 2020<br> 41 days after first 10 confirmed cases",
          "Date: Apr 04 2020<br> 42 days after first 10 confirmed cases",
          "Date: Apr 05 2020<br> 43 days after first 10 confirmed cases",
          "Date: Apr 06 2020<br> 44 days after first 10 confirmed cases",
          "Date: Apr 07 2020<br> 45 days after first 10 confirmed cases",
          "Date: Apr 08 2020<br> 46 days after first 10 confirmed cases",
          "Date: Apr 09 2020<br> 47 days after first 10 confirmed cases",
          "Date: Apr 10 2020<br> 48 days after first 10 confirmed cases",
          "Date: Apr 11 2020<br> 49 days after first 10 confirmed cases",
          "Date: Apr 12 2020<br> 50 days after first 10 confirmed cases",
          "Date: Apr 13 2020<br> 51 days after first 10 confirmed cases",
          "Date: Apr 14 2020<br> 52 days after first 10 confirmed cases",
          "Date: Apr 15 2020<br> 53 days after first 10 confirmed cases",
          "Date: Apr 16 2020<br> 54 days after first 10 confirmed cases",
          "Date: Apr 17 2020<br> 55 days after first 10 confirmed cases",
          "Date: Apr 18 2020<br> 56 days after first 10 confirmed cases",
          "Date: Apr 19 2020<br> 57 days after first 10 confirmed cases"
         ],
         "type": "scatter",
         "x": [
          0.0033095441644024007,
          0.0016547720822012004,
          0.0033095441644024007,
          0.004550623226053301,
          0.003971452997282881,
          0.0046885208995700684,
          0.004964316246603601,
          0.006382692317061773,
          0.0078010683875199445,
          0.010874216540179317,
          0.016311324810268975,
          0.022457621115587717,
          0.03096787753833675,
          0.041605698066773035,
          0.04822478639557783,
          0.07824707988694246,
          0.09739515683812779,
          0.13025420247040875,
          0.1702051284549806,
          0.20519173819294884,
          0.2531801285767836,
          0.2855663821855786,
          0.34159223696867635,
          0.4004548438926905,
          0.44300612600643563,
          0.5084878212592545,
          0.5652228640775815,
          0.653398576457731,
          0.8004368957618949,
          0.8663913830382,
          0.9264359700209293,
          1.0200487906711684,
          1.0701647451606904,
          1.1247722238733302,
          1.206565243936418,
          1.2283136770167769,
          1.2540808422967669,
          1.3034876087510596,
          1.3261816258783907,
          1.3361102583715978,
          1.3597498595459006,
          1.3108158851150937,
          1.2621183066960298,
          1.2075108279833902,
          1.1663779219401031,
          1.1108248591804915,
          1.066618804984545,
          1.0316321952465768,
          0.9857713689684293,
          0.9711148162403617,
          0.9484207991130307,
          0.9314002862675328,
          0.9314002862675328,
          0.9403833347137679,
          0.9198168816921244,
          0.9209988617508396,
          0.8881398161185584,
          0.8886126081420446
         ],
         "y": [
          0.10259586909647442,
          0.09514939472656903,
          0.11693722714221816,
          0.12617637126784154,
          0.12675554149661192,
          0.17457845467222663,
          0.20590092622817793,
          0.247979416318437,
          0.36806859028389555,
          0.42716759321965275,
          0.5153433055998025,
          0.635668875577004,
          0.7583584056716357,
          0.8860122520128713,
          1.1240630358381012,
          1.3441477227708607,
          1.6869219397982522,
          1.8077203017989396,
          2.2157398180674073,
          2.6606371121677874,
          3.078821656941205,
          3.610712683363019,
          3.9253557749929904,
          4.446136188862882,
          5.0487096227958626,
          5.496443669037158,
          6.127857416402788,
          6.940823300787063,
          7.664195096720731,
          8.3112109808614,
          8.49772743412665,
          8.905037762359889,
          9.142142962138145,
          9.338588047896604,
          9.33220535557954,
          9.194386480733355,
          9.113302648705497,
          8.938605996027398,
          8.655876365982737,
          8.554698872956719,
          8.203650795518323,
          7.878842675383401,
          7.602495737655801,
          7.389502931075332,
          7.282888329779225,
          7.043182773871795,
          6.819552146762889,
          6.709864397314124,
          6.559989325869044,
          6.533749368565568,
          6.48079666193513,
          6.37536404069774,
          6.3595255079109565,
          6.083178570183356,
          5.984365037274769,
          5.8760956638964625,
          5.591711261769599,
          5.344677429498134
         ]
        },
        {
         "hovertemplate": "<b>Spain</b><br>Cases: %{y:.2f}<br>Deaths: %{x:.2f}<br>%{text}",
         "line": {
          "shape": "spline"
         },
         "name": "Spain",
         "text": [
          "Date: Feb 27 2020<br> 0 days after first 10 confirmed cases",
          "Date: Feb 28 2020<br> 1 days after first 10 confirmed cases",
          "Date: Feb 29 2020<br> 2 days after first 10 confirmed cases",
          "Date: Mar 01 2020<br> 3 days after first 10 confirmed cases",
          "Date: Mar 02 2020<br> 4 days after first 10 confirmed cases",
          "Date: Mar 03 2020<br> 5 days after first 10 confirmed cases",
          "Date: Mar 04 2020<br> 6 days after first 10 confirmed cases",
          "Date: Mar 05 2020<br> 7 days after first 10 confirmed cases",
          "Date: Mar 06 2020<br> 8 days after first 10 confirmed cases",
          "Date: Mar 07 2020<br> 9 days after first 10 confirmed cases",
          "Date: Mar 08 2020<br> 10 days after first 10 confirmed cases",
          "Date: Mar 09 2020<br> 11 days after first 10 confirmed cases",
          "Date: Mar 10 2020<br> 12 days after first 10 confirmed cases",
          "Date: Mar 11 2020<br> 13 days after first 10 confirmed cases",
          "Date: Mar 12 2020<br> 14 days after first 10 confirmed cases",
          "Date: Mar 13 2020<br> 15 days after first 10 confirmed cases",
          "Date: Mar 14 2020<br> 16 days after first 10 confirmed cases",
          "Date: Mar 15 2020<br> 17 days after first 10 confirmed cases",
          "Date: Mar 16 2020<br> 18 days after first 10 confirmed cases",
          "Date: Mar 17 2020<br> 19 days after first 10 confirmed cases",
          "Date: Mar 18 2020<br> 20 days after first 10 confirmed cases",
          "Date: Mar 19 2020<br> 21 days after first 10 confirmed cases",
          "Date: Mar 20 2020<br> 22 days after first 10 confirmed cases",
          "Date: Mar 21 2020<br> 23 days after first 10 confirmed cases",
          "Date: Mar 22 2020<br> 24 days after first 10 confirmed cases",
          "Date: Mar 23 2020<br> 25 days after first 10 confirmed cases",
          "Date: Mar 24 2020<br> 26 days after first 10 confirmed cases",
          "Date: Mar 25 2020<br> 27 days after first 10 confirmed cases",
          "Date: Mar 26 2020<br> 28 days after first 10 confirmed cases",
          "Date: Mar 27 2020<br> 29 days after first 10 confirmed cases",
          "Date: Mar 28 2020<br> 30 days after first 10 confirmed cases",
          "Date: Mar 29 2020<br> 31 days after first 10 confirmed cases",
          "Date: Mar 30 2020<br> 32 days after first 10 confirmed cases",
          "Date: Mar 31 2020<br> 33 days after first 10 confirmed cases",
          "Date: Apr 01 2020<br> 34 days after first 10 confirmed cases",
          "Date: Apr 02 2020<br> 35 days after first 10 confirmed cases",
          "Date: Apr 03 2020<br> 36 days after first 10 confirmed cases",
          "Date: Apr 04 2020<br> 37 days after first 10 confirmed cases",
          "Date: Apr 05 2020<br> 38 days after first 10 confirmed cases",
          "Date: Apr 06 2020<br> 39 days after first 10 confirmed cases",
          "Date: Apr 07 2020<br> 40 days after first 10 confirmed cases",
          "Date: Apr 08 2020<br> 41 days after first 10 confirmed cases",
          "Date: Apr 09 2020<br> 42 days after first 10 confirmed cases",
          "Date: Apr 10 2020<br> 43 days after first 10 confirmed cases",
          "Date: Apr 11 2020<br> 44 days after first 10 confirmed cases",
          "Date: Apr 12 2020<br> 45 days after first 10 confirmed cases",
          "Date: Apr 13 2020<br> 46 days after first 10 confirmed cases",
          "Date: Apr 14 2020<br> 47 days after first 10 confirmed cases",
          "Date: Apr 15 2020<br> 48 days after first 10 confirmed cases",
          "Date: Apr 16 2020<br> 49 days after first 10 confirmed cases",
          "Date: Apr 17 2020<br> 50 days after first 10 confirmed cases",
          "Date: Apr 18 2020<br> 51 days after first 10 confirmed cases",
          "Date: Apr 19 2020<br> 52 days after first 10 confirmed cases"
         ],
         "type": "scatter",
         "x": [
          0,
          0,
          0,
          0,
          0,
          0,
          0.00030574845964766834,
          0.0009172453789430051,
          0.001528742298238342,
          0.001528742298238342,
          0.001528742298238342,
          0.008560956870134714,
          0.010701196087668393,
          0.014064429143792745,
          0.024765625231461138,
          0.03546682131912954,
          0.04005304821384456,
          0.08652681408029016,
          0.08591531716099482,
          0.13942129759933677,
          0.16846740126586526,
          0.20882619793935747,
          0.26936439294959585,
          0.36384066698072537,
          0.43783179421546115,
          0.5726668649200828,
          0.6741753535231088,
          0.8671026315607876,
          1.0156963829495544,
          1.1789660604014094,
          1.3342862779024247,
          1.4700385939859895,
          1.5770505548626734,
          1.6794762888446424,
          1.7180005947602486,
          1.8081963903563107,
          1.8580333892788807,
          1.8510011747069843,
          1.800858427324767,
          1.747352446886425,
          1.714943110163772,
          1.6822280249814714,
          1.6005931862555438,
          1.5006134399507565,
          1.4091946505161035,
          1.392378485235482,
          1.3556886700777615,
          1.3018769411797722,
          1.2303318016222176,
          1.1899730049487254,
          1.1113956508192746,
          1.1282118160998962,
          1.0643103880335336
         ],
         "y": [
          0.02782310982793782,
          0.023542631392870467,
          0.03852430591560622,
          0.0379892461112228,
          0.04366088003768704,
          0.04958220853953023,
          0.05748071041376166,
          0.07215663647684974,
          0.10395447628020725,
          0.11129243931175128,
          0.15470872058172022,
          0.3332658210159586,
          0.4549537079557306,
          0.5931520117164767,
          0.8386680248135543,
          1.179271808861057,
          1.6274990507045388,
          2.1903819649158964,
          2.4420129472059275,
          2.9165345565791085,
          3.539344168881409,
          4.324200464796974,
          4.815232490991129,
          5.862115216824746,
          6.365377181404808,
          7.306776688659979,
          8.712302357660311,
          10.363038291298071,
          11.936725613104622,
          13.477086352809575,
          14.468628607446965,
          15.356216385804144,
          15.931329238401407,
          16.737893674951955,
          16.671240510748767,
          16.525704243956476,
          16.403710608557056,
          16.04812514998682,
          15.887301460212145,
          15.237585983460848,
          14.092863750539978,
          13.622316871142216,
          12.905030984808786,
          12.01958344566914,
          11.34815982828286,
          10.780690687176786,
          10.537314913297243,
          9.793428910974466,
          9.460774586877802,
          9.28558071949969,
          9.492266678221512,
          9.133929483514445,
          9.149522654956476
         ]
        },
        {
         "hovertemplate": "<b>Sweden</b><br>Cases: %{y:.2f}<br>Deaths: %{x:.2f}<br>%{text}",
         "line": {
          "shape": "spline"
         },
         "name": "Sweden",
         "text": [
          "Date: Feb 29 2020<br> 0 days after first 10 confirmed cases",
          "Date: Mar 01 2020<br> 1 days after first 10 confirmed cases",
          "Date: Mar 02 2020<br> 2 days after first 10 confirmed cases",
          "Date: Mar 03 2020<br> 3 days after first 10 confirmed cases",
          "Date: Mar 04 2020<br> 4 days after first 10 confirmed cases",
          "Date: Mar 05 2020<br> 5 days after first 10 confirmed cases",
          "Date: Mar 06 2020<br> 6 days after first 10 confirmed cases",
          "Date: Mar 07 2020<br> 7 days after first 10 confirmed cases",
          "Date: Mar 08 2020<br> 8 days after first 10 confirmed cases",
          "Date: Mar 09 2020<br> 9 days after first 10 confirmed cases",
          "Date: Mar 10 2020<br> 10 days after first 10 confirmed cases",
          "Date: Mar 11 2020<br> 11 days after first 10 confirmed cases",
          "Date: Mar 12 2020<br> 12 days after first 10 confirmed cases",
          "Date: Mar 13 2020<br> 13 days after first 10 confirmed cases",
          "Date: Mar 14 2020<br> 14 days after first 10 confirmed cases",
          "Date: Mar 15 2020<br> 15 days after first 10 confirmed cases",
          "Date: Mar 16 2020<br> 16 days after first 10 confirmed cases",
          "Date: Mar 17 2020<br> 17 days after first 10 confirmed cases",
          "Date: Mar 18 2020<br> 18 days after first 10 confirmed cases",
          "Date: Mar 19 2020<br> 19 days after first 10 confirmed cases",
          "Date: Mar 20 2020<br> 20 days after first 10 confirmed cases",
          "Date: Mar 21 2020<br> 21 days after first 10 confirmed cases",
          "Date: Mar 22 2020<br> 22 days after first 10 confirmed cases",
          "Date: Mar 23 2020<br> 23 days after first 10 confirmed cases",
          "Date: Mar 24 2020<br> 24 days after first 10 confirmed cases",
          "Date: Mar 25 2020<br> 25 days after first 10 confirmed cases",
          "Date: Mar 26 2020<br> 26 days after first 10 confirmed cases",
          "Date: Mar 27 2020<br> 27 days after first 10 confirmed cases",
          "Date: Mar 28 2020<br> 28 days after first 10 confirmed cases",
          "Date: Mar 29 2020<br> 29 days after first 10 confirmed cases",
          "Date: Mar 30 2020<br> 30 days after first 10 confirmed cases",
          "Date: Mar 31 2020<br> 31 days after first 10 confirmed cases",
          "Date: Apr 01 2020<br> 32 days after first 10 confirmed cases",
          "Date: Apr 02 2020<br> 33 days after first 10 confirmed cases",
          "Date: Apr 03 2020<br> 34 days after first 10 confirmed cases",
          "Date: Apr 04 2020<br> 35 days after first 10 confirmed cases",
          "Date: Apr 05 2020<br> 36 days after first 10 confirmed cases",
          "Date: Apr 06 2020<br> 37 days after first 10 confirmed cases",
          "Date: Apr 07 2020<br> 38 days after first 10 confirmed cases",
          "Date: Apr 08 2020<br> 39 days after first 10 confirmed cases",
          "Date: Apr 09 2020<br> 40 days after first 10 confirmed cases",
          "Date: Apr 10 2020<br> 41 days after first 10 confirmed cases",
          "Date: Apr 11 2020<br> 42 days after first 10 confirmed cases",
          "Date: Apr 12 2020<br> 43 days after first 10 confirmed cases",
          "Date: Apr 13 2020<br> 44 days after first 10 confirmed cases",
          "Date: Apr 14 2020<br> 45 days after first 10 confirmed cases",
          "Date: Apr 15 2020<br> 46 days after first 10 confirmed cases",
          "Date: Apr 16 2020<br> 47 days after first 10 confirmed cases",
          "Date: Apr 17 2020<br> 48 days after first 10 confirmed cases",
          "Date: Apr 18 2020<br> 49 days after first 10 confirmed cases",
          "Date: Apr 19 2020<br> 50 days after first 10 confirmed cases"
         ],
         "type": "scatter",
         "x": [
          0,
          0,
          0,
          0,
          0,
          0,
          0,
          0,
          0,
          0,
          0,
          0.0014028742789664603,
          0.0014028742789664603,
          0.0014028742789664603,
          0.0014028742789664603,
          0.004208622836899381,
          0.009820119952765223,
          0.011222994231731682,
          0.012625868510698145,
          0.012625868510698145,
          0.021043114184496906,
          0.026654611300362747,
          0.02525173702139629,
          0.02525173702139629,
          0.03928047981106089,
          0.04489197692692673,
          0.07856095962212178,
          0.10661844520145099,
          0.11503569087524974,
          0.12485581082801497,
          0.1697477877549417,
          0.20201389617117033,
          0.2763662329563927,
          0.30302084425675546,
          0.338092701230917,
          0.3801789295999108,
          0.40823641517924,
          0.46435138633789835,
          0.5765813286552153,
          0.6284876769769743,
          0.7168687565518613,
          0.7533434878049892,
          0.7210773793887606,
          0.6986313909252972,
          0.6200704313031755,
          0.6200704313031755,
          0.7238831279466935,
          0.7575521106418885,
          0.743523367852224,
          0.8753935500750714,
          0.8992424128175011
         ],
         "y": [
          0.009820119952765223,
          0.009820119952765223,
          0.009820119952765223,
          0.02946035985829567,
          0.04517255178272002,
          0.08019764628091598,
          0.17535928487080754,
          0.20762539328703614,
          0.265143238724661,
          0.32686970699918527,
          0.4236680322478711,
          0.5990273171186786,
          0.7842067219422515,
          0.8950337899806018,
          1.0703930748514092,
          1.1629827772631958,
          1.22470924553772,
          1.1798172686107933,
          1.1770115200528604,
          1.1265080460100676,
          1.1896373885635585,
          1.1531626573104305,
          1.2261121198166864,
          1.255572479674982,
          1.5501760782579388,
          1.6960750032704506,
          1.940175127810615,
          1.9962900989692733,
          2.386289148521949,
          2.51675645646583,
          2.8225830492805186,
          3.0344170654044538,
          3.418804617841264,
          3.731645582050785,
          4.253514813826309,
          4.203011339783515,
          4.390996493165021,
          4.458334458555411,
          4.570564400872728,
          4.870779496571551,
          5.155562975201742,
          5.060167524232023,
          5.201857826407635,
          5.124699741064481,
          5.249555551892495,
          5.263584294682159,
          4.921282970614343,
          4.768369674206999,
          4.953549079030572,
          5.149951478085876,
          5.474015436527129
         ]
        },
        {
         "hovertemplate": "<b>Switzerland</b><br>Cases: %{y:.2f}<br>Deaths: %{x:.2f}<br>%{text}",
         "line": {
          "shape": "spline"
         },
         "name": "Switzerland",
         "text": [
          "Date: Feb 29 2020<br> 0 days after first 10 confirmed cases",
          "Date: Mar 01 2020<br> 1 days after first 10 confirmed cases",
          "Date: Mar 02 2020<br> 2 days after first 10 confirmed cases",
          "Date: Mar 03 2020<br> 3 days after first 10 confirmed cases",
          "Date: Mar 04 2020<br> 4 days after first 10 confirmed cases",
          "Date: Mar 05 2020<br> 5 days after first 10 confirmed cases",
          "Date: Mar 06 2020<br> 6 days after first 10 confirmed cases",
          "Date: Mar 07 2020<br> 7 days after first 10 confirmed cases",
          "Date: Mar 08 2020<br> 8 days after first 10 confirmed cases",
          "Date: Mar 09 2020<br> 9 days after first 10 confirmed cases",
          "Date: Mar 10 2020<br> 10 days after first 10 confirmed cases",
          "Date: Mar 11 2020<br> 11 days after first 10 confirmed cases",
          "Date: Mar 12 2020<br> 12 days after first 10 confirmed cases",
          "Date: Mar 13 2020<br> 13 days after first 10 confirmed cases",
          "Date: Mar 14 2020<br> 14 days after first 10 confirmed cases",
          "Date: Mar 15 2020<br> 15 days after first 10 confirmed cases",
          "Date: Mar 16 2020<br> 16 days after first 10 confirmed cases",
          "Date: Mar 17 2020<br> 17 days after first 10 confirmed cases",
          "Date: Mar 18 2020<br> 18 days after first 10 confirmed cases",
          "Date: Mar 19 2020<br> 19 days after first 10 confirmed cases",
          "Date: Mar 20 2020<br> 20 days after first 10 confirmed cases",
          "Date: Mar 21 2020<br> 21 days after first 10 confirmed cases",
          "Date: Mar 22 2020<br> 22 days after first 10 confirmed cases",
          "Date: Mar 23 2020<br> 23 days after first 10 confirmed cases",
          "Date: Mar 24 2020<br> 24 days after first 10 confirmed cases",
          "Date: Mar 25 2020<br> 25 days after first 10 confirmed cases",
          "Date: Mar 26 2020<br> 26 days after first 10 confirmed cases",
          "Date: Mar 27 2020<br> 27 days after first 10 confirmed cases",
          "Date: Mar 28 2020<br> 28 days after first 10 confirmed cases",
          "Date: Mar 29 2020<br> 29 days after first 10 confirmed cases",
          "Date: Mar 30 2020<br> 30 days after first 10 confirmed cases",
          "Date: Mar 31 2020<br> 31 days after first 10 confirmed cases",
          "Date: Apr 01 2020<br> 32 days after first 10 confirmed cases",
          "Date: Apr 02 2020<br> 33 days after first 10 confirmed cases",
          "Date: Apr 03 2020<br> 34 days after first 10 confirmed cases",
          "Date: Apr 04 2020<br> 35 days after first 10 confirmed cases",
          "Date: Apr 05 2020<br> 36 days after first 10 confirmed cases",
          "Date: Apr 06 2020<br> 37 days after first 10 confirmed cases",
          "Date: Apr 07 2020<br> 38 days after first 10 confirmed cases",
          "Date: Apr 08 2020<br> 39 days after first 10 confirmed cases",
          "Date: Apr 09 2020<br> 40 days after first 10 confirmed cases",
          "Date: Apr 10 2020<br> 41 days after first 10 confirmed cases",
          "Date: Apr 11 2020<br> 42 days after first 10 confirmed cases",
          "Date: Apr 12 2020<br> 43 days after first 10 confirmed cases",
          "Date: Apr 13 2020<br> 44 days after first 10 confirmed cases",
          "Date: Apr 14 2020<br> 45 days after first 10 confirmed cases",
          "Date: Apr 15 2020<br> 46 days after first 10 confirmed cases",
          "Date: Apr 16 2020<br> 47 days after first 10 confirmed cases",
          "Date: Apr 17 2020<br> 48 days after first 10 confirmed cases",
          "Date: Apr 18 2020<br> 49 days after first 10 confirmed cases",
          "Date: Apr 19 2020<br> 50 days after first 10 confirmed cases"
         ],
         "type": "scatter",
         "x": [
          0,
          0,
          0,
          0,
          0,
          0.0019569755787843335,
          0.0016774076389580003,
          0.0016774076389580003,
          0.0033548152779160007,
          0.0033548152779160007,
          0.005032222916874001,
          0.006709630555832001,
          0.005032222916874001,
          0.010064445833748001,
          0.016774076389580006,
          0.018451484028538002,
          0.020128891667496002,
          0.026838522223328005,
          0.028515929862286005,
          0.048644821529782015,
          0.06038667500248802,
          0.07548334375311001,
          0.07883815903102602,
          0.08722519722581602,
          0.11238631181018603,
          0.13754742639455603,
          0.21470817778662404,
          0.25832077639953205,
          0.3002559673734821,
          0.33044930487472607,
          0.38412634932138207,
          0.4814159923809461,
          0.46128710071345014,
          0.4545774701576181,
          0.4814159923809461,
          0.5116093298821901,
          0.5065771069653161,
          0.4847708076588621,
          0.44954524724074413,
          0.5485122979392661,
          0.543480075022392,
          0.5384478521055182,
          0.4881256229367781,
          0.5015448840484422,
          0.4596096930744921,
          0.4344485784901221,
          0.44954524724074413,
          0.43612598612908016,
          0.42438413265637415,
          0.4679967312692821,
          0.46296450835240816
         ],
         "y": [
          0.07045112083623602,
          0.07045112083623602,
          0.07045112083623602,
          0.07338658420441252,
          0.10567668125435403,
          0.14677316840882504,
          0.33044930487472607,
          0.41264227918366814,
          0.5166415527990641,
          0.5770282278015522,
          0.7598656604479741,
          0.9812834687904303,
          1.2865716590807863,
          1.5297957667296962,
          1.8367613646590104,
          3.1333974695735445,
          3.0629463487373085,
          3.6232005001492804,
          3.9721012890525444,
          5.089254776598573,
          6.238279009284804,
          7.914009240603846,
          8.002911845468619,
          9.754125420540772,
          10.297605495563165,
          11.245340811574435,
          11.44998454352731,
          12.184689089390917,
          11.867659045627853,
          12.250107987310276,
          12.40778430537233,
          12.276946509533605,
          12.33901059217505,
          12.547009139405844,
          11.948174612297835,
          11.824046447014945,
          11.319146747688587,
          10.336185871259199,
          10.15838066152965,
          9.460579083723122,
          8.89193789411636,
          8.388715602428961,
          7.747945884347004,
          7.041757268345685,
          6.583824982910151,
          6.020216016220263,
          6.08228009886171,
          5.293898508551449,
          4.644741752274704,
          4.196873912672917,
          4.089519823779605
         ]
        },
        {
         "hovertemplate": "<b>United States of America</b><br>Cases: %{y:.2f}<br>Deaths: %{x:.2f}<br>%{text}",
         "line": {
          "shape": "spline"
         },
         "name": "United States of America",
         "text": [
          "Date: Feb 03 2020<br> 0 days after first 10 confirmed cases",
          "Date: Feb 04 2020<br> 1 days after first 10 confirmed cases",
          "Date: Feb 05 2020<br> 2 days after first 10 confirmed cases",
          "Date: Feb 06 2020<br> 3 days after first 10 confirmed cases",
          "Date: Feb 07 2020<br> 4 days after first 10 confirmed cases",
          "Date: Feb 08 2020<br> 5 days after first 10 confirmed cases",
          "Date: Feb 09 2020<br> 6 days after first 10 confirmed cases",
          "Date: Feb 10 2020<br> 7 days after first 10 confirmed cases",
          "Date: Feb 11 2020<br> 8 days after first 10 confirmed cases",
          "Date: Feb 12 2020<br> 9 days after first 10 confirmed cases",
          "Date: Feb 13 2020<br> 10 days after first 10 confirmed cases",
          "Date: Feb 14 2020<br> 11 days after first 10 confirmed cases",
          "Date: Feb 15 2020<br> 12 days after first 10 confirmed cases",
          "Date: Feb 16 2020<br> 13 days after first 10 confirmed cases",
          "Date: Feb 17 2020<br> 14 days after first 10 confirmed cases",
          "Date: Feb 18 2020<br> 15 days after first 10 confirmed cases",
          "Date: Feb 19 2020<br> 16 days after first 10 confirmed cases",
          "Date: Feb 20 2020<br> 17 days after first 10 confirmed cases",
          "Date: Feb 21 2020<br> 18 days after first 10 confirmed cases",
          "Date: Feb 22 2020<br> 19 days after first 10 confirmed cases",
          "Date: Feb 23 2020<br> 20 days after first 10 confirmed cases",
          "Date: Feb 24 2020<br> 21 days after first 10 confirmed cases",
          "Date: Feb 25 2020<br> 22 days after first 10 confirmed cases",
          "Date: Feb 26 2020<br> 23 days after first 10 confirmed cases",
          "Date: Feb 27 2020<br> 24 days after first 10 confirmed cases",
          "Date: Feb 28 2020<br> 25 days after first 10 confirmed cases",
          "Date: Feb 29 2020<br> 26 days after first 10 confirmed cases",
          "Date: Mar 01 2020<br> 27 days after first 10 confirmed cases",
          "Date: Mar 02 2020<br> 28 days after first 10 confirmed cases",
          "Date: Mar 03 2020<br> 29 days after first 10 confirmed cases",
          "Date: Mar 04 2020<br> 30 days after first 10 confirmed cases",
          "Date: Mar 05 2020<br> 31 days after first 10 confirmed cases",
          "Date: Mar 06 2020<br> 32 days after first 10 confirmed cases",
          "Date: Mar 07 2020<br> 33 days after first 10 confirmed cases",
          "Date: Mar 08 2020<br> 34 days after first 10 confirmed cases",
          "Date: Mar 09 2020<br> 35 days after first 10 confirmed cases",
          "Date: Mar 10 2020<br> 36 days after first 10 confirmed cases",
          "Date: Mar 11 2020<br> 37 days after first 10 confirmed cases",
          "Date: Mar 12 2020<br> 38 days after first 10 confirmed cases",
          "Date: Mar 13 2020<br> 39 days after first 10 confirmed cases",
          "Date: Mar 14 2020<br> 40 days after first 10 confirmed cases",
          "Date: Mar 15 2020<br> 41 days after first 10 confirmed cases",
          "Date: Mar 16 2020<br> 42 days after first 10 confirmed cases",
          "Date: Mar 17 2020<br> 43 days after first 10 confirmed cases",
          "Date: Mar 18 2020<br> 44 days after first 10 confirmed cases",
          "Date: Mar 19 2020<br> 45 days after first 10 confirmed cases",
          "Date: Mar 20 2020<br> 46 days after first 10 confirmed cases",
          "Date: Mar 21 2020<br> 47 days after first 10 confirmed cases",
          "Date: Mar 22 2020<br> 48 days after first 10 confirmed cases",
          "Date: Mar 23 2020<br> 49 days after first 10 confirmed cases",
          "Date: Mar 24 2020<br> 50 days after first 10 confirmed cases",
          "Date: Mar 25 2020<br> 51 days after first 10 confirmed cases",
          "Date: Mar 26 2020<br> 52 days after first 10 confirmed cases",
          "Date: Mar 27 2020<br> 53 days after first 10 confirmed cases",
          "Date: Mar 28 2020<br> 54 days after first 10 confirmed cases",
          "Date: Mar 29 2020<br> 55 days after first 10 confirmed cases",
          "Date: Mar 30 2020<br> 56 days after first 10 confirmed cases",
          "Date: Mar 31 2020<br> 57 days after first 10 confirmed cases",
          "Date: Apr 01 2020<br> 58 days after first 10 confirmed cases",
          "Date: Apr 02 2020<br> 59 days after first 10 confirmed cases",
          "Date: Apr 03 2020<br> 60 days after first 10 confirmed cases",
          "Date: Apr 04 2020<br> 61 days after first 10 confirmed cases",
          "Date: Apr 05 2020<br> 62 days after first 10 confirmed cases",
          "Date: Apr 06 2020<br> 63 days after first 10 confirmed cases",
          "Date: Apr 07 2020<br> 64 days after first 10 confirmed cases",
          "Date: Apr 08 2020<br> 65 days after first 10 confirmed cases",
          "Date: Apr 09 2020<br> 66 days after first 10 confirmed cases",
          "Date: Apr 10 2020<br> 67 days after first 10 confirmed cases",
          "Date: Apr 11 2020<br> 68 days after first 10 confirmed cases",
          "Date: Apr 12 2020<br> 69 days after first 10 confirmed cases",
          "Date: Apr 13 2020<br> 70 days after first 10 confirmed cases",
          "Date: Apr 14 2020<br> 71 days after first 10 confirmed cases",
          "Date: Apr 15 2020<br> 72 days after first 10 confirmed cases",
          "Date: Apr 16 2020<br> 73 days after first 10 confirmed cases",
          "Date: Apr 17 2020<br> 74 days after first 10 confirmed cases",
          "Date: Apr 18 2020<br> 75 days after first 10 confirmed cases",
          "Date: Apr 19 2020<br> 76 days after first 10 confirmed cases"
         ],
         "type": "scatter",
         "x": [
          0,
          0,
          0,
          0,
          0,
          0,
          0,
          0,
          0,
          0,
          0,
          0,
          0,
          0,
          0,
          0,
          0,
          0,
          0,
          0,
          0,
          0,
          0,
          0,
          0,
          0,
          4.3664841916125074e-05,
          8.732968383225015e-05,
          0.00026198905149675046,
          0.00039298357724512574,
          0.0004803132610773758,
          0.0005239781029935009,
          0.0006113077868257511,
          0.0006986374706580012,
          0.0008296319964063765,
          0.0008732968383225017,
          0.0008296319964063765,
          0.0008296319964063765,
          0.0012226155736515022,
          0.0014409397832321276,
          0.0017465936766450033,
          0.0020959124119740036,
          0.0025762256730513795,
          0.0034931873532900067,
          0.00523978102993501,
          0.004803132610773759,
          0.009300611328134641,
          0.0123571502622634,
          0.01755326645028228,
          0.022050745167643163,
          0.03025973544787468,
          0.039298357724512574,
          0.050039908835879346,
          0.06318302625263299,
          0.08082362238674753,
          0.08898894782506292,
          0.1126552921436027,
          0.143133351801058,
          0.17850187375311932,
          0.207713652995007,
          0.23797338844288166,
          0.27552515249074927,
          0.3116796415973008,
          0.341415398942182,
          0.38494924633255867,
          0.42263200490617464,
          0.4644629234618225,
          0.5073854630653735,
          0.5286502410785263,
          0.5441075951168346,
          0.5527968986581435,
          0.5747166493000383,
          0.7059731640999103,
          0.7245743867561795,
          0.798062315701018,
          0.7991539367489211,
          0.8110307737501073
         ],
         "y": [
          0,
          0,
          0.00010188463113762517,
          7.641347335321889e-05,
          6.113077868257512e-05,
          5.0942315568812585e-05,
          4.3664841916125074e-05,
          8.732968383225015e-05,
          8.732968383225015e-05,
          8.732968383225015e-05,
          0.00013099452574837523,
          0.00013099452574837523,
          0.00013099452574837523,
          0.00013099452574837523,
          8.732968383225015e-05,
          8.732968383225015e-05,
          4.3664841916125074e-05,
          4.3664841916125074e-05,
          0.0008732968383225017,
          0.0008732968383225017,
          0.0008732968383225017,
          0.001659263992812753,
          0.001659263992812753,
          0.0019212530443095033,
          0.0019212530443095033,
          0.0013536100993998775,
          0.0014846046251482527,
          0.0023579014634707543,
          0.002183242095806254,
          0.003143868617961006,
          0.004366484191612508,
          0.007554017651489639,
          0.011876837001186021,
          0.01589400245746953,
          0.02030415149099816,
          0.028425812087397428,
          0.039298357724512574,
          0.05034556272929222,
          0.06244072394005887,
          0.08016864975800565,
          0.10994807194480297,
          0.14060079096992276,
          0.17059853736630068,
          0.23587747603090767,
          0.35381621404636154,
          0.5496093651982663,
          0.7619514914363826,
          1.0390485782361123,
          1.3724733111076437,
          1.824360760097622,
          2.1310189448745684,
          2.6102405849040413,
          3.1325594239047296,
          3.7142187830694313,
          4.275573990743136,
          4.70789959055469,
          5.160223687963829,
          5.867987110582302,
          6.441743133360185,
          6.966681862875841,
          7.566200142384238,
          8.190301727891413,
          8.497614885297102,
          8.889113857917078,
          9.134291945276122,
          9.405887261994419,
          9.627791988612167,
          9.763240328235987,
          9.506447392927255,
          9.603470671664885,
          9.361654777133385,
          9.200487845620968,
          9.06185197253727,
          8.964304715696645,
          8.759341947742357,
          8.957187346464318,
          8.825363188719537
         ]
        }
       ],
       "layout": {
        "template": {
         "data": {
          "bar": [
           {
            "error_x": {
             "color": "#2a3f5f"
            },
            "error_y": {
             "color": "#2a3f5f"
            },
            "marker": {
             "line": {
              "color": "#E5ECF6",
              "width": 0.5
             }
            },
            "type": "bar"
           }
          ],
          "barpolar": [
           {
            "marker": {
             "line": {
              "color": "#E5ECF6",
              "width": 0.5
             }
            },
            "type": "barpolar"
           }
          ],
          "carpet": [
           {
            "aaxis": {
             "endlinecolor": "#2a3f5f",
             "gridcolor": "white",
             "linecolor": "white",
             "minorgridcolor": "white",
             "startlinecolor": "#2a3f5f"
            },
            "baxis": {
             "endlinecolor": "#2a3f5f",
             "gridcolor": "white",
             "linecolor": "white",
             "minorgridcolor": "white",
             "startlinecolor": "#2a3f5f"
            },
            "type": "carpet"
           }
          ],
          "choropleth": [
           {
            "colorbar": {
             "outlinewidth": 0,
             "ticks": ""
            },
            "type": "choropleth"
           }
          ],
          "contour": [
           {
            "colorbar": {
             "outlinewidth": 0,
             "ticks": ""
            },
            "colorscale": [
             [
              0,
              "#0d0887"
             ],
             [
              0.1111111111111111,
              "#46039f"
             ],
             [
              0.2222222222222222,
              "#7201a8"
             ],
             [
              0.3333333333333333,
              "#9c179e"
             ],
             [
              0.4444444444444444,
              "#bd3786"
             ],
             [
              0.5555555555555556,
              "#d8576b"
             ],
             [
              0.6666666666666666,
              "#ed7953"
             ],
             [
              0.7777777777777778,
              "#fb9f3a"
             ],
             [
              0.8888888888888888,
              "#fdca26"
             ],
             [
              1,
              "#f0f921"
             ]
            ],
            "type": "contour"
           }
          ],
          "contourcarpet": [
           {
            "colorbar": {
             "outlinewidth": 0,
             "ticks": ""
            },
            "type": "contourcarpet"
           }
          ],
          "heatmap": [
           {
            "colorbar": {
             "outlinewidth": 0,
             "ticks": ""
            },
            "colorscale": [
             [
              0,
              "#0d0887"
             ],
             [
              0.1111111111111111,
              "#46039f"
             ],
             [
              0.2222222222222222,
              "#7201a8"
             ],
             [
              0.3333333333333333,
              "#9c179e"
             ],
             [
              0.4444444444444444,
              "#bd3786"
             ],
             [
              0.5555555555555556,
              "#d8576b"
             ],
             [
              0.6666666666666666,
              "#ed7953"
             ],
             [
              0.7777777777777778,
              "#fb9f3a"
             ],
             [
              0.8888888888888888,
              "#fdca26"
             ],
             [
              1,
              "#f0f921"
             ]
            ],
            "type": "heatmap"
           }
          ],
          "heatmapgl": [
           {
            "colorbar": {
             "outlinewidth": 0,
             "ticks": ""
            },
            "colorscale": [
             [
              0,
              "#0d0887"
             ],
             [
              0.1111111111111111,
              "#46039f"
             ],
             [
              0.2222222222222222,
              "#7201a8"
             ],
             [
              0.3333333333333333,
              "#9c179e"
             ],
             [
              0.4444444444444444,
              "#bd3786"
             ],
             [
              0.5555555555555556,
              "#d8576b"
             ],
             [
              0.6666666666666666,
              "#ed7953"
             ],
             [
              0.7777777777777778,
              "#fb9f3a"
             ],
             [
              0.8888888888888888,
              "#fdca26"
             ],
             [
              1,
              "#f0f921"
             ]
            ],
            "type": "heatmapgl"
           }
          ],
          "histogram": [
           {
            "marker": {
             "colorbar": {
              "outlinewidth": 0,
              "ticks": ""
             }
            },
            "type": "histogram"
           }
          ],
          "histogram2d": [
           {
            "colorbar": {
             "outlinewidth": 0,
             "ticks": ""
            },
            "colorscale": [
             [
              0,
              "#0d0887"
             ],
             [
              0.1111111111111111,
              "#46039f"
             ],
             [
              0.2222222222222222,
              "#7201a8"
             ],
             [
              0.3333333333333333,
              "#9c179e"
             ],
             [
              0.4444444444444444,
              "#bd3786"
             ],
             [
              0.5555555555555556,
              "#d8576b"
             ],
             [
              0.6666666666666666,
              "#ed7953"
             ],
             [
              0.7777777777777778,
              "#fb9f3a"
             ],
             [
              0.8888888888888888,
              "#fdca26"
             ],
             [
              1,
              "#f0f921"
             ]
            ],
            "type": "histogram2d"
           }
          ],
          "histogram2dcontour": [
           {
            "colorbar": {
             "outlinewidth": 0,
             "ticks": ""
            },
            "colorscale": [
             [
              0,
              "#0d0887"
             ],
             [
              0.1111111111111111,
              "#46039f"
             ],
             [
              0.2222222222222222,
              "#7201a8"
             ],
             [
              0.3333333333333333,
              "#9c179e"
             ],
             [
              0.4444444444444444,
              "#bd3786"
             ],
             [
              0.5555555555555556,
              "#d8576b"
             ],
             [
              0.6666666666666666,
              "#ed7953"
             ],
             [
              0.7777777777777778,
              "#fb9f3a"
             ],
             [
              0.8888888888888888,
              "#fdca26"
             ],
             [
              1,
              "#f0f921"
             ]
            ],
            "type": "histogram2dcontour"
           }
          ],
          "mesh3d": [
           {
            "colorbar": {
             "outlinewidth": 0,
             "ticks": ""
            },
            "type": "mesh3d"
           }
          ],
          "parcoords": [
           {
            "line": {
             "colorbar": {
              "outlinewidth": 0,
              "ticks": ""
             }
            },
            "type": "parcoords"
           }
          ],
          "pie": [
           {
            "automargin": true,
            "type": "pie"
           }
          ],
          "scatter": [
           {
            "marker": {
             "colorbar": {
              "outlinewidth": 0,
              "ticks": ""
             }
            },
            "type": "scatter"
           }
          ],
          "scatter3d": [
           {
            "line": {
             "colorbar": {
              "outlinewidth": 0,
              "ticks": ""
             }
            },
            "marker": {
             "colorbar": {
              "outlinewidth": 0,
              "ticks": ""
             }
            },
            "type": "scatter3d"
           }
          ],
          "scattercarpet": [
           {
            "marker": {
             "colorbar": {
              "outlinewidth": 0,
              "ticks": ""
             }
            },
            "type": "scattercarpet"
           }
          ],
          "scattergeo": [
           {
            "marker": {
             "colorbar": {
              "outlinewidth": 0,
              "ticks": ""
             }
            },
            "type": "scattergeo"
           }
          ],
          "scattergl": [
           {
            "marker": {
             "colorbar": {
              "outlinewidth": 0,
              "ticks": ""
             }
            },
            "type": "scattergl"
           }
          ],
          "scattermapbox": [
           {
            "marker": {
             "colorbar": {
              "outlinewidth": 0,
              "ticks": ""
             }
            },
            "type": "scattermapbox"
           }
          ],
          "scatterpolar": [
           {
            "marker": {
             "colorbar": {
              "outlinewidth": 0,
              "ticks": ""
             }
            },
            "type": "scatterpolar"
           }
          ],
          "scatterpolargl": [
           {
            "marker": {
             "colorbar": {
              "outlinewidth": 0,
              "ticks": ""
             }
            },
            "type": "scatterpolargl"
           }
          ],
          "scatterternary": [
           {
            "marker": {
             "colorbar": {
              "outlinewidth": 0,
              "ticks": ""
             }
            },
            "type": "scatterternary"
           }
          ],
          "surface": [
           {
            "colorbar": {
             "outlinewidth": 0,
             "ticks": ""
            },
            "colorscale": [
             [
              0,
              "#0d0887"
             ],
             [
              0.1111111111111111,
              "#46039f"
             ],
             [
              0.2222222222222222,
              "#7201a8"
             ],
             [
              0.3333333333333333,
              "#9c179e"
             ],
             [
              0.4444444444444444,
              "#bd3786"
             ],
             [
              0.5555555555555556,
              "#d8576b"
             ],
             [
              0.6666666666666666,
              "#ed7953"
             ],
             [
              0.7777777777777778,
              "#fb9f3a"
             ],
             [
              0.8888888888888888,
              "#fdca26"
             ],
             [
              1,
              "#f0f921"
             ]
            ],
            "type": "surface"
           }
          ],
          "table": [
           {
            "cells": {
             "fill": {
              "color": "#EBF0F8"
             },
             "line": {
              "color": "white"
             }
            },
            "header": {
             "fill": {
              "color": "#C8D4E3"
             },
             "line": {
              "color": "white"
             }
            },
            "type": "table"
           }
          ]
         },
         "layout": {
          "annotationdefaults": {
           "arrowcolor": "#2a3f5f",
           "arrowhead": 0,
           "arrowwidth": 1
          },
          "coloraxis": {
           "colorbar": {
            "outlinewidth": 0,
            "ticks": ""
           }
          },
          "colorscale": {
           "diverging": [
            [
             0,
             "#8e0152"
            ],
            [
             0.1,
             "#c51b7d"
            ],
            [
             0.2,
             "#de77ae"
            ],
            [
             0.3,
             "#f1b6da"
            ],
            [
             0.4,
             "#fde0ef"
            ],
            [
             0.5,
             "#f7f7f7"
            ],
            [
             0.6,
             "#e6f5d0"
            ],
            [
             0.7,
             "#b8e186"
            ],
            [
             0.8,
             "#7fbc41"
            ],
            [
             0.9,
             "#4d9221"
            ],
            [
             1,
             "#276419"
            ]
           ],
           "sequential": [
            [
             0,
             "#0d0887"
            ],
            [
             0.1111111111111111,
             "#46039f"
            ],
            [
             0.2222222222222222,
             "#7201a8"
            ],
            [
             0.3333333333333333,
             "#9c179e"
            ],
            [
             0.4444444444444444,
             "#bd3786"
            ],
            [
             0.5555555555555556,
             "#d8576b"
            ],
            [
             0.6666666666666666,
             "#ed7953"
            ],
            [
             0.7777777777777778,
             "#fb9f3a"
            ],
            [
             0.8888888888888888,
             "#fdca26"
            ],
            [
             1,
             "#f0f921"
            ]
           ],
           "sequentialminus": [
            [
             0,
             "#0d0887"
            ],
            [
             0.1111111111111111,
             "#46039f"
            ],
            [
             0.2222222222222222,
             "#7201a8"
            ],
            [
             0.3333333333333333,
             "#9c179e"
            ],
            [
             0.4444444444444444,
             "#bd3786"
            ],
            [
             0.5555555555555556,
             "#d8576b"
            ],
            [
             0.6666666666666666,
             "#ed7953"
            ],
            [
             0.7777777777777778,
             "#fb9f3a"
            ],
            [
             0.8888888888888888,
             "#fdca26"
            ],
            [
             1,
             "#f0f921"
            ]
           ]
          },
          "colorway": [
           "#636efa",
           "#EF553B",
           "#00cc96",
           "#ab63fa",
           "#FFA15A",
           "#19d3f3",
           "#FF6692",
           "#B6E880",
           "#FF97FF",
           "#FECB52"
          ],
          "font": {
           "color": "#2a3f5f"
          },
          "geo": {
           "bgcolor": "white",
           "lakecolor": "white",
           "landcolor": "#E5ECF6",
           "showlakes": true,
           "showland": true,
           "subunitcolor": "white"
          },
          "hoverlabel": {
           "align": "left"
          },
          "hovermode": "closest",
          "mapbox": {
           "style": "light"
          },
          "paper_bgcolor": "white",
          "plot_bgcolor": "#E5ECF6",
          "polar": {
           "angularaxis": {
            "gridcolor": "white",
            "linecolor": "white",
            "ticks": ""
           },
           "bgcolor": "#E5ECF6",
           "radialaxis": {
            "gridcolor": "white",
            "linecolor": "white",
            "ticks": ""
           }
          },
          "scene": {
           "xaxis": {
            "backgroundcolor": "#E5ECF6",
            "gridcolor": "white",
            "gridwidth": 2,
            "linecolor": "white",
            "showbackground": true,
            "ticks": "",
            "zerolinecolor": "white"
           },
           "yaxis": {
            "backgroundcolor": "#E5ECF6",
            "gridcolor": "white",
            "gridwidth": 2,
            "linecolor": "white",
            "showbackground": true,
            "ticks": "",
            "zerolinecolor": "white"
           },
           "zaxis": {
            "backgroundcolor": "#E5ECF6",
            "gridcolor": "white",
            "gridwidth": 2,
            "linecolor": "white",
            "showbackground": true,
            "ticks": "",
            "zerolinecolor": "white"
           }
          },
          "shapedefaults": {
           "line": {
            "color": "#2a3f5f"
           }
          },
          "ternary": {
           "aaxis": {
            "gridcolor": "white",
            "linecolor": "white",
            "ticks": ""
           },
           "baxis": {
            "gridcolor": "white",
            "linecolor": "white",
            "ticks": ""
           },
           "bgcolor": "#E5ECF6",
           "caxis": {
            "gridcolor": "white",
            "linecolor": "white",
            "ticks": ""
           }
          },
          "title": {
           "x": 0.05
          },
          "xaxis": {
           "automargin": true,
           "gridcolor": "white",
           "linecolor": "white",
           "ticks": "",
           "title": {
            "standoff": 15
           },
           "zerolinecolor": "white",
           "zerolinewidth": 2
          },
          "yaxis": {
           "automargin": true,
           "gridcolor": "white",
           "linecolor": "white",
           "ticks": "",
           "title": {
            "standoff": 15
           },
           "zerolinecolor": "white",
           "zerolinewidth": 2
          }
         }
        },
        "title": {
         "text": "New confirmed cases and deaths each day (7-day-average), per 100000 population"
        },
        "xaxis": {
         "title": {
          "text": "Deaths"
         }
        },
        "yaxis": {
         "title": {
          "text": "Confirmed Cases"
         }
        }
       }
      },
      "text/html": [
       "<div>\n",
       "        \n",
       "        \n",
       "            <div id=\"84f33e13-4fa2-4a9e-9c63-5c99a694e395\" class=\"plotly-graph-div\" style=\"height:525px; width:100%;\"></div>\n",
       "            <script type=\"text/javascript\">\n",
       "                require([\"plotly\"], function(Plotly) {\n",
       "                    window.PLOTLYENV=window.PLOTLYENV || {};\n",
       "                    \n",
       "                if (document.getElementById(\"84f33e13-4fa2-4a9e-9c63-5c99a694e395\")) {\n",
       "                    Plotly.newPlot(\n",
       "                        '84f33e13-4fa2-4a9e-9c63-5c99a694e395',\n",
       "                        [{\"hovertemplate\": \"<b>Austria</b><br>Cases: %{y:.2f}<br>Deaths: %{x:.2f}<br>%{text}\", \"line\": {\"shape\": \"spline\"}, \"name\": \"Austria\", \"text\": [\"Date: Mar 01 2020<br> 0 days after first 10 confirmed cases\", \"Date: Mar 02 2020<br> 1 days after first 10 confirmed cases\", \"Date: Mar 03 2020<br> 2 days after first 10 confirmed cases\", \"Date: Mar 04 2020<br> 3 days after first 10 confirmed cases\", \"Date: Mar 05 2020<br> 4 days after first 10 confirmed cases\", \"Date: Mar 06 2020<br> 5 days after first 10 confirmed cases\", \"Date: Mar 07 2020<br> 6 days after first 10 confirmed cases\", \"Date: Mar 08 2020<br> 7 days after first 10 confirmed cases\", \"Date: Mar 09 2020<br> 8 days after first 10 confirmed cases\", \"Date: Mar 10 2020<br> 9 days after first 10 confirmed cases\", \"Date: Mar 11 2020<br> 10 days after first 10 confirmed cases\", \"Date: Mar 12 2020<br> 11 days after first 10 confirmed cases\", \"Date: Mar 13 2020<br> 12 days after first 10 confirmed cases\", \"Date: Mar 14 2020<br> 13 days after first 10 confirmed cases\", \"Date: Mar 15 2020<br> 14 days after first 10 confirmed cases\", \"Date: Mar 16 2020<br> 15 days after first 10 confirmed cases\", \"Date: Mar 17 2020<br> 16 days after first 10 confirmed cases\", \"Date: Mar 18 2020<br> 17 days after first 10 confirmed cases\", \"Date: Mar 19 2020<br> 18 days after first 10 confirmed cases\", \"Date: Mar 20 2020<br> 19 days after first 10 confirmed cases\", \"Date: Mar 21 2020<br> 20 days after first 10 confirmed cases\", \"Date: Mar 22 2020<br> 21 days after first 10 confirmed cases\", \"Date: Mar 23 2020<br> 22 days after first 10 confirmed cases\", \"Date: Mar 24 2020<br> 23 days after first 10 confirmed cases\", \"Date: Mar 25 2020<br> 24 days after first 10 confirmed cases\", \"Date: Mar 26 2020<br> 25 days after first 10 confirmed cases\", \"Date: Mar 27 2020<br> 26 days after first 10 confirmed cases\", \"Date: Mar 28 2020<br> 27 days after first 10 confirmed cases\", \"Date: Mar 29 2020<br> 28 days after first 10 confirmed cases\", \"Date: Mar 30 2020<br> 29 days after first 10 confirmed cases\", \"Date: Mar 31 2020<br> 30 days after first 10 confirmed cases\", \"Date: Apr 01 2020<br> 31 days after first 10 confirmed cases\", \"Date: Apr 02 2020<br> 32 days after first 10 confirmed cases\", \"Date: Apr 03 2020<br> 33 days after first 10 confirmed cases\", \"Date: Apr 04 2020<br> 34 days after first 10 confirmed cases\", \"Date: Apr 05 2020<br> 35 days after first 10 confirmed cases\", \"Date: Apr 06 2020<br> 36 days after first 10 confirmed cases\", \"Date: Apr 07 2020<br> 37 days after first 10 confirmed cases\", \"Date: Apr 08 2020<br> 38 days after first 10 confirmed cases\", \"Date: Apr 09 2020<br> 39 days after first 10 confirmed cases\", \"Date: Apr 10 2020<br> 40 days after first 10 confirmed cases\", \"Date: Apr 11 2020<br> 41 days after first 10 confirmed cases\", \"Date: Apr 12 2020<br> 42 days after first 10 confirmed cases\", \"Date: Apr 13 2020<br> 43 days after first 10 confirmed cases\", \"Date: Apr 14 2020<br> 44 days after first 10 confirmed cases\", \"Date: Apr 15 2020<br> 45 days after first 10 confirmed cases\", \"Date: Apr 16 2020<br> 46 days after first 10 confirmed cases\", \"Date: Apr 17 2020<br> 47 days after first 10 confirmed cases\", \"Date: Apr 18 2020<br> 48 days after first 10 confirmed cases\", \"Date: Apr 19 2020<br> 49 days after first 10 confirmed cases\"], \"type\": \"scatter\", \"x\": [0.0, 0.0, 0.0, 0.0, 0.0, 0.0, 0.0, 0.0, 0.0, 0.0, 0.0, 0.0016147456245197442, 0.0016147456245197442, 0.0016147456245197442, 0.0016147456245197442, 0.004844236873559233, 0.004844236873559233, 0.006458982498078977, 0.008073728122598723, 0.008073728122598723, 0.011303219371638211, 0.024221184367796165, 0.03552440373943437, 0.0435981318620331, 0.04844236873559233, 0.07427829872790824, 0.10011422872022416, 0.09688473747118466, 0.11303219371638211, 0.13402388683513877, 0.15824507120293496, 0.18085150994621138, 0.1711630361990929, 0.16147456245197445, 0.19053998369332983, 0.19053998369332983, 0.18085150994621138, 0.18569574681977058, 0.20507269431400754, 0.221220150559205, 0.2438265893024814, 0.2438265893024814, 0.23575286117988267, 0.23898235242892216, 0.22767913305728396, 0.19376947494236932, 0.18569574681977058, 0.18085150994621138, 0.1711630361990929, 0.1647040537010139], \"y\": [0.045212877486552845, 0.045212877486552845, 0.05274835706764498, 0.0536902920152815, 0.0700799601041569, 0.12056767329747423, 0.14371236058225725, 0.14209761495773748, 0.18246625557073112, 0.2551298086741196, 0.3503998005207845, 0.5167185998463183, 0.69434061854349, 0.8977985672329779, 1.2239771833859663, 1.4290498776999738, 1.856957468197706, 2.2606438743276422, 2.963058220993731, 3.463629364594852, 3.8253323844872744, 4.474460125544211, 5.603167317083513, 6.37824521685299, 6.849750939212756, 7.8040656033039255, 8.15123591257567, 8.504865204345494, 8.367611826261315, 8.286874545035328, 7.912253560146747, 7.787918147058727, 6.620457060530952, 6.181246250661582, 5.611241045206111, 5.1187436297275895, 4.3259035280883955, 3.969044745069532, 3.6460956201655823, 3.421645978357338, 3.28600734589768, 3.295695819644798, 3.1552129503115807, 2.8193458604114734, 2.5739045254844726, 2.2622586199521617, 1.9376947494236931, 1.6841796863740934, 1.3806075089643814, 1.2481983677537625]}, {\"hovertemplate\": \"<b>Czechia</b><br>Cases: %{y:.2f}<br>Deaths: %{x:.2f}<br>%{text}\", \"line\": {\"shape\": \"spline\"}, \"name\": \"Czechia\", \"text\": [\"Date: Mar 06 2020<br> 0 days after first 10 confirmed cases\", \"Date: Mar 07 2020<br> 1 days after first 10 confirmed cases\", \"Date: Mar 08 2020<br> 2 days after first 10 confirmed cases\", \"Date: Mar 09 2020<br> 3 days after first 10 confirmed cases\", \"Date: Mar 10 2020<br> 4 days after first 10 confirmed cases\", \"Date: Mar 11 2020<br> 5 days after first 10 confirmed cases\", \"Date: Mar 12 2020<br> 6 days after first 10 confirmed cases\", \"Date: Mar 13 2020<br> 7 days after first 10 confirmed cases\", \"Date: Mar 14 2020<br> 8 days after first 10 confirmed cases\", \"Date: Mar 15 2020<br> 9 days after first 10 confirmed cases\", \"Date: Mar 16 2020<br> 10 days after first 10 confirmed cases\", \"Date: Mar 17 2020<br> 11 days after first 10 confirmed cases\", \"Date: Mar 18 2020<br> 12 days after first 10 confirmed cases\", \"Date: Mar 19 2020<br> 13 days after first 10 confirmed cases\", \"Date: Mar 20 2020<br> 14 days after first 10 confirmed cases\", \"Date: Mar 21 2020<br> 15 days after first 10 confirmed cases\", \"Date: Mar 22 2020<br> 16 days after first 10 confirmed cases\", \"Date: Mar 23 2020<br> 17 days after first 10 confirmed cases\", \"Date: Mar 24 2020<br> 18 days after first 10 confirmed cases\", \"Date: Mar 25 2020<br> 19 days after first 10 confirmed cases\", \"Date: Mar 26 2020<br> 20 days after first 10 confirmed cases\", \"Date: Mar 27 2020<br> 21 days after first 10 confirmed cases\", \"Date: Mar 28 2020<br> 22 days after first 10 confirmed cases\", \"Date: Mar 29 2020<br> 23 days after first 10 confirmed cases\", \"Date: Mar 30 2020<br> 24 days after first 10 confirmed cases\", \"Date: Mar 31 2020<br> 25 days after first 10 confirmed cases\", \"Date: Apr 01 2020<br> 26 days after first 10 confirmed cases\", \"Date: Apr 02 2020<br> 27 days after first 10 confirmed cases\", \"Date: Apr 03 2020<br> 28 days after first 10 confirmed cases\", \"Date: Apr 04 2020<br> 29 days after first 10 confirmed cases\", \"Date: Apr 05 2020<br> 30 days after first 10 confirmed cases\", \"Date: Apr 06 2020<br> 31 days after first 10 confirmed cases\", \"Date: Apr 07 2020<br> 32 days after first 10 confirmed cases\", \"Date: Apr 08 2020<br> 33 days after first 10 confirmed cases\", \"Date: Apr 09 2020<br> 34 days after first 10 confirmed cases\", \"Date: Apr 10 2020<br> 35 days after first 10 confirmed cases\", \"Date: Apr 11 2020<br> 36 days after first 10 confirmed cases\", \"Date: Apr 12 2020<br> 37 days after first 10 confirmed cases\", \"Date: Apr 13 2020<br> 38 days after first 10 confirmed cases\", \"Date: Apr 14 2020<br> 39 days after first 10 confirmed cases\", \"Date: Apr 15 2020<br> 40 days after first 10 confirmed cases\", \"Date: Apr 16 2020<br> 41 days after first 10 confirmed cases\", \"Date: Apr 17 2020<br> 42 days after first 10 confirmed cases\", \"Date: Apr 18 2020<br> 43 days after first 10 confirmed cases\", \"Date: Apr 19 2020<br> 44 days after first 10 confirmed cases\"], \"type\": \"scatter\", \"x\": [0.0, 0.0, 0.0, 0.0, 0.0, 0.0, 0.0, 0.0, 0.0, 0.0, 0.0, 0.0, 0.0, 0.0, 0.0, 0.0, 0.0013444498722873454, 0.0013444498722873454, 0.004033349616862037, 0.008066699233724073, 0.01210004885058611, 0.01210004885058611, 0.014788948595160799, 0.020166748084310182, 0.03092234706260895, 0.037644596424045676, 0.0443668457854824, 0.04705574553005709, 0.059155794380643195, 0.06453359386979259, 0.06856694348665461, 0.07260029310351666, 0.07663364272037869, 0.08066699233724073, 0.0914225913155395, 0.0887336915709648, 0.09411149106011418, 0.09545594093240152, 0.08738924169867747, 0.09814484067697622, 0.09007814144325214, 0.07663364272037869, 0.07260029310351666, 0.06991139335894196, 0.06722249361436727], \"y\": [0.06587804374207994, 0.06587804374207994, 0.06274099404007613, 0.06587804374207994, 0.09599372088131645, 0.12861903778215603, 0.13982278671788392, 0.1761229332696423, 0.252756575990021, 0.35762366602843393, 0.40871276117535305, 0.4987909026186052, 0.5754245453389839, 0.7770920261820857, 1.0137152037046584, 1.0500153502564167, 1.1656380392731285, 1.1992492860803123, 1.2906718773958517, 1.5219172554292753, 1.8392074252890886, 1.8486185743951, 2.2425423869752925, 2.2371645874861428, 2.374298474459452, 2.5732770555579796, 2.601510502876014, 2.414631970628072, 2.5692437059411173, 2.4321098189678083, 2.363542875481153, 2.4468987675629688, 2.2976648317390733, 2.316487129951096, 2.300353731483648, 2.073141703067087, 1.922563317370904, 1.8876076206914332, 1.6630844920194463, 1.5111616564509764, 1.3323498234367595, 1.1616046896562666, 1.0984155456587612, 1.011026303960084, 1.070182098340727]}, {\"hovertemplate\": \"<b>France</b><br>Cases: %{y:.2f}<br>Deaths: %{x:.2f}<br>%{text}\", \"line\": {\"shape\": \"spline\"}, \"name\": \"France\", \"text\": [\"Date: Feb 08 2020<br> 0 days after first 10 confirmed cases\", \"Date: Feb 09 2020<br> 1 days after first 10 confirmed cases\", \"Date: Feb 10 2020<br> 2 days after first 10 confirmed cases\", \"Date: Feb 11 2020<br> 3 days after first 10 confirmed cases\", \"Date: Feb 12 2020<br> 4 days after first 10 confirmed cases\", \"Date: Feb 13 2020<br> 5 days after first 10 confirmed cases\", \"Date: Feb 14 2020<br> 6 days after first 10 confirmed cases\", \"Date: Feb 15 2020<br> 7 days after first 10 confirmed cases\", \"Date: Feb 16 2020<br> 8 days after first 10 confirmed cases\", \"Date: Feb 17 2020<br> 9 days after first 10 confirmed cases\", \"Date: Feb 18 2020<br> 10 days after first 10 confirmed cases\", \"Date: Feb 19 2020<br> 11 days after first 10 confirmed cases\", \"Date: Feb 20 2020<br> 12 days after first 10 confirmed cases\", \"Date: Feb 21 2020<br> 13 days after first 10 confirmed cases\", \"Date: Feb 22 2020<br> 14 days after first 10 confirmed cases\", \"Date: Feb 23 2020<br> 15 days after first 10 confirmed cases\", \"Date: Feb 24 2020<br> 16 days after first 10 confirmed cases\", \"Date: Feb 25 2020<br> 17 days after first 10 confirmed cases\", \"Date: Feb 26 2020<br> 18 days after first 10 confirmed cases\", \"Date: Feb 27 2020<br> 19 days after first 10 confirmed cases\", \"Date: Feb 28 2020<br> 20 days after first 10 confirmed cases\", \"Date: Feb 29 2020<br> 21 days after first 10 confirmed cases\", \"Date: Mar 01 2020<br> 22 days after first 10 confirmed cases\", \"Date: Mar 02 2020<br> 23 days after first 10 confirmed cases\", \"Date: Mar 03 2020<br> 24 days after first 10 confirmed cases\", \"Date: Mar 04 2020<br> 25 days after first 10 confirmed cases\", \"Date: Mar 05 2020<br> 26 days after first 10 confirmed cases\", \"Date: Mar 06 2020<br> 27 days after first 10 confirmed cases\", \"Date: Mar 07 2020<br> 28 days after first 10 confirmed cases\", \"Date: Mar 08 2020<br> 29 days after first 10 confirmed cases\", \"Date: Mar 09 2020<br> 30 days after first 10 confirmed cases\", \"Date: Mar 10 2020<br> 31 days after first 10 confirmed cases\", \"Date: Mar 11 2020<br> 32 days after first 10 confirmed cases\", \"Date: Mar 12 2020<br> 33 days after first 10 confirmed cases\", \"Date: Mar 13 2020<br> 34 days after first 10 confirmed cases\", \"Date: Mar 14 2020<br> 35 days after first 10 confirmed cases\", \"Date: Mar 15 2020<br> 36 days after first 10 confirmed cases\", \"Date: Mar 16 2020<br> 37 days after first 10 confirmed cases\", \"Date: Mar 17 2020<br> 38 days after first 10 confirmed cases\", \"Date: Mar 18 2020<br> 39 days after first 10 confirmed cases\", \"Date: Mar 19 2020<br> 40 days after first 10 confirmed cases\", \"Date: Mar 20 2020<br> 41 days after first 10 confirmed cases\", \"Date: Mar 21 2020<br> 42 days after first 10 confirmed cases\", \"Date: Mar 22 2020<br> 43 days after first 10 confirmed cases\", \"Date: Mar 23 2020<br> 44 days after first 10 confirmed cases\", \"Date: Mar 24 2020<br> 45 days after first 10 confirmed cases\", \"Date: Mar 25 2020<br> 46 days after first 10 confirmed cases\", \"Date: Mar 26 2020<br> 47 days after first 10 confirmed cases\", \"Date: Mar 27 2020<br> 48 days after first 10 confirmed cases\", \"Date: Mar 28 2020<br> 49 days after first 10 confirmed cases\", \"Date: Mar 29 2020<br> 50 days after first 10 confirmed cases\", \"Date: Mar 30 2020<br> 51 days after first 10 confirmed cases\", \"Date: Mar 31 2020<br> 52 days after first 10 confirmed cases\", \"Date: Apr 01 2020<br> 53 days after first 10 confirmed cases\", \"Date: Apr 02 2020<br> 54 days after first 10 confirmed cases\", \"Date: Apr 03 2020<br> 55 days after first 10 confirmed cases\", \"Date: Apr 04 2020<br> 56 days after first 10 confirmed cases\", \"Date: Apr 05 2020<br> 57 days after first 10 confirmed cases\", \"Date: Apr 06 2020<br> 58 days after first 10 confirmed cases\", \"Date: Apr 07 2020<br> 59 days after first 10 confirmed cases\", \"Date: Apr 08 2020<br> 60 days after first 10 confirmed cases\", \"Date: Apr 09 2020<br> 61 days after first 10 confirmed cases\", \"Date: Apr 10 2020<br> 62 days after first 10 confirmed cases\", \"Date: Apr 11 2020<br> 63 days after first 10 confirmed cases\", \"Date: Apr 12 2020<br> 64 days after first 10 confirmed cases\", \"Date: Apr 13 2020<br> 65 days after first 10 confirmed cases\", \"Date: Apr 14 2020<br> 66 days after first 10 confirmed cases\", \"Date: Apr 15 2020<br> 67 days after first 10 confirmed cases\", \"Date: Apr 16 2020<br> 68 days after first 10 confirmed cases\", \"Date: Apr 17 2020<br> 69 days after first 10 confirmed cases\", \"Date: Apr 18 2020<br> 70 days after first 10 confirmed cases\", \"Date: Apr 19 2020<br> 71 days after first 10 confirmed cases\"], \"type\": \"scatter\", \"x\": [0.0, 0.0, 0.0, 0.0, 0.0, 0.0, 0.00021326021840388425, 0.00021326021840388425, 0.00021326021840388425, 0.00021326021840388425, 0.00021326021840388425, 0.00021326021840388425, 0.00021326021840388425, 0.0, 0.0, 0.0, 0.0, 0.0, 0.00021326021840388425, 0.00021326021840388425, 0.00021326021840388425, 0.00021326021840388425, 0.00021326021840388425, 0.0004265204368077685, 0.0006397806552116528, 0.0004265204368077685, 0.0010663010920194213, 0.0014928215288271898, 0.001706081747231074, 0.0036254237128660323, 0.005758025896904876, 0.006184546333712644, 0.009383449609770908, 0.011516051793809752, 0.0149282152882719, 0.017274077690714623, 0.023032103587619503, 0.025164705771658344, 0.030282951013351562, 0.04179900280716132, 0.066323927923608, 0.07911954102784106, 0.10044556286822949, 0.11665333946692469, 0.15184127550356558, 0.19726570202359295, 0.23181385740502217, 0.28235652916674275, 0.3294870374340012, 0.37363190264360524, 0.4120187419563044, 0.46149511262600557, 0.5167295091926116, 0.5760158499088913, 0.5986214330597032, 0.9622301054383258, 1.1187631057467768, 1.1669599151060546, 1.2554629057436666, 1.4512357862384324, 1.4580601132273567, 1.643596503238736, 1.4267108611219856, 1.3375680898291622, 1.3467382792205291, 1.2915038826539231, 1.151818439599379, 1.343112855507663, 1.217715847086179, 1.1695190377269014, 1.1710118592557286, 1.1356106630006837], \"y\": [0.0, 0.0, 0.0, 0.0, 0.0, 0.0, 0.0, 0.0, 0.00021326021840388425, 0.00021326021840388425, 0.00021326021840388425, 0.00021326021840388425, 0.00021326021840388425, 0.00021326021840388425, 0.00021326021840388425, 0.0, 0.0, 0.0004265204368077685, 0.0010663010920194213, 0.005544765678500991, 0.009596709828174791, 0.018766899219541815, 0.025164705771658344, 0.03540119625504479, 0.04222552324396908, 0.05715373853224098, 0.08210518408549544, 0.11857268143255965, 0.13136829453679272, 0.21240717753026872, 0.2631631095103932, 0.3352450633309061, 0.42566739593415304, 0.523127315744728, 0.6500171456950392, 0.8067634062218941, 0.9163791584814908, 1.1134316002866798, 1.268045258629496, 1.461472276721819, 1.7314597132211362, 1.9088922149331682, 2.1240717753026876, 2.259492013989154, 2.8199398679545618, 3.1076279025814015, 3.4332762560841323, 3.8728055662145384, 4.3402719649558525, 4.929723208624188, 5.151513835764228, 5.266247833265519, 6.3606992741142525, 6.772291495633749, 6.387143541196334, 6.690826092203465, 6.617464577072529, 6.462637658511308, 6.363684917171907, 5.553082827018742, 5.344087812982935, 5.806862486919364, 5.6168476323215035, 5.370958600501825, 5.3155109437168155, 5.051281533114403, 5.418089108769084, 5.151940356201036, 4.801127296926647, 3.961521817070554, 3.845294998040437, 3.668715537202021]}, {\"hovertemplate\": \"<b>Germany</b><br>Cases: %{y:.2f}<br>Deaths: %{x:.2f}<br>%{text}\", \"line\": {\"shape\": \"spline\"}, \"name\": \"Germany\", \"text\": [\"Date: Feb 04 2020<br> 0 days after first 10 confirmed cases\", \"Date: Feb 05 2020<br> 1 days after first 10 confirmed cases\", \"Date: Feb 06 2020<br> 2 days after first 10 confirmed cases\", \"Date: Feb 07 2020<br> 3 days after first 10 confirmed cases\", \"Date: Feb 08 2020<br> 4 days after first 10 confirmed cases\", \"Date: Feb 09 2020<br> 5 days after first 10 confirmed cases\", \"Date: Feb 10 2020<br> 6 days after first 10 confirmed cases\", \"Date: Feb 11 2020<br> 7 days after first 10 confirmed cases\", \"Date: Feb 12 2020<br> 8 days after first 10 confirmed cases\", \"Date: Feb 13 2020<br> 9 days after first 10 confirmed cases\", \"Date: Feb 14 2020<br> 10 days after first 10 confirmed cases\", \"Date: Feb 15 2020<br> 11 days after first 10 confirmed cases\", \"Date: Feb 16 2020<br> 12 days after first 10 confirmed cases\", \"Date: Feb 17 2020<br> 13 days after first 10 confirmed cases\", \"Date: Feb 18 2020<br> 14 days after first 10 confirmed cases\", \"Date: Feb 19 2020<br> 15 days after first 10 confirmed cases\", \"Date: Feb 20 2020<br> 16 days after first 10 confirmed cases\", \"Date: Feb 21 2020<br> 17 days after first 10 confirmed cases\", \"Date: Feb 22 2020<br> 18 days after first 10 confirmed cases\", \"Date: Feb 23 2020<br> 19 days after first 10 confirmed cases\", \"Date: Feb 24 2020<br> 20 days after first 10 confirmed cases\", \"Date: Feb 25 2020<br> 21 days after first 10 confirmed cases\", \"Date: Feb 26 2020<br> 22 days after first 10 confirmed cases\", \"Date: Feb 27 2020<br> 23 days after first 10 confirmed cases\", \"Date: Feb 28 2020<br> 24 days after first 10 confirmed cases\", \"Date: Feb 29 2020<br> 25 days after first 10 confirmed cases\", \"Date: Mar 01 2020<br> 26 days after first 10 confirmed cases\", \"Date: Mar 02 2020<br> 27 days after first 10 confirmed cases\", \"Date: Mar 03 2020<br> 28 days after first 10 confirmed cases\", \"Date: Mar 04 2020<br> 29 days after first 10 confirmed cases\", \"Date: Mar 05 2020<br> 30 days after first 10 confirmed cases\", \"Date: Mar 06 2020<br> 31 days after first 10 confirmed cases\", \"Date: Mar 07 2020<br> 32 days after first 10 confirmed cases\", \"Date: Mar 08 2020<br> 33 days after first 10 confirmed cases\", \"Date: Mar 09 2020<br> 34 days after first 10 confirmed cases\", \"Date: Mar 10 2020<br> 35 days after first 10 confirmed cases\", \"Date: Mar 11 2020<br> 36 days after first 10 confirmed cases\", \"Date: Mar 12 2020<br> 37 days after first 10 confirmed cases\", \"Date: Mar 13 2020<br> 38 days after first 10 confirmed cases\", \"Date: Mar 14 2020<br> 39 days after first 10 confirmed cases\", \"Date: Mar 15 2020<br> 40 days after first 10 confirmed cases\", \"Date: Mar 16 2020<br> 41 days after first 10 confirmed cases\", \"Date: Mar 17 2020<br> 42 days after first 10 confirmed cases\", \"Date: Mar 18 2020<br> 43 days after first 10 confirmed cases\", \"Date: Mar 19 2020<br> 44 days after first 10 confirmed cases\", \"Date: Mar 20 2020<br> 45 days after first 10 confirmed cases\", \"Date: Mar 21 2020<br> 46 days after first 10 confirmed cases\", \"Date: Mar 22 2020<br> 47 days after first 10 confirmed cases\", \"Date: Mar 23 2020<br> 48 days after first 10 confirmed cases\", \"Date: Mar 24 2020<br> 49 days after first 10 confirmed cases\", \"Date: Mar 25 2020<br> 50 days after first 10 confirmed cases\", \"Date: Mar 26 2020<br> 51 days after first 10 confirmed cases\", \"Date: Mar 27 2020<br> 52 days after first 10 confirmed cases\", \"Date: Mar 28 2020<br> 53 days after first 10 confirmed cases\", \"Date: Mar 29 2020<br> 54 days after first 10 confirmed cases\", \"Date: Mar 30 2020<br> 55 days after first 10 confirmed cases\", \"Date: Mar 31 2020<br> 56 days after first 10 confirmed cases\", \"Date: Apr 01 2020<br> 57 days after first 10 confirmed cases\", \"Date: Apr 02 2020<br> 58 days after first 10 confirmed cases\", \"Date: Apr 03 2020<br> 59 days after first 10 confirmed cases\", \"Date: Apr 04 2020<br> 60 days after first 10 confirmed cases\", \"Date: Apr 05 2020<br> 61 days after first 10 confirmed cases\", \"Date: Apr 06 2020<br> 62 days after first 10 confirmed cases\", \"Date: Apr 07 2020<br> 63 days after first 10 confirmed cases\", \"Date: Apr 08 2020<br> 64 days after first 10 confirmed cases\", \"Date: Apr 09 2020<br> 65 days after first 10 confirmed cases\", \"Date: Apr 10 2020<br> 66 days after first 10 confirmed cases\", \"Date: Apr 11 2020<br> 67 days after first 10 confirmed cases\", \"Date: Apr 12 2020<br> 68 days after first 10 confirmed cases\", \"Date: Apr 13 2020<br> 69 days after first 10 confirmed cases\", \"Date: Apr 14 2020<br> 70 days after first 10 confirmed cases\", \"Date: Apr 15 2020<br> 71 days after first 10 confirmed cases\", \"Date: Apr 16 2020<br> 72 days after first 10 confirmed cases\", \"Date: Apr 17 2020<br> 73 days after first 10 confirmed cases\", \"Date: Apr 18 2020<br> 74 days after first 10 confirmed cases\", \"Date: Apr 19 2020<br> 75 days after first 10 confirmed cases\"], \"type\": \"scatter\", \"x\": [0.0, 0.0, 0.0, 0.0, 0.0, 0.0, 0.0, 0.0, 0.0, 0.0, 0.0, 0.0, 0.0, 0.0, 0.0, 0.0, 0.0, 0.0, 0.0, 0.0, 0.0, 0.0, 0.0, 0.0, 0.0, 0.0, 0.0, 0.0, 0.0, 0.0, 0.0, 0.0, 0.0, 0.0, 0.00034453327519081653, 0.00034453327519081653, 0.0005167999127862248, 0.0008613331879770415, 0.0008613331879770415, 0.0013781331007632661, 0.0020671996511448993, 0.001894933013549491, 0.001894933013549491, 0.001722666375954083, 0.006546132228625515, 0.006890665503816332, 0.010163731618129088, 0.014125864282823478, 0.019466130048281138, 0.023428262712975524, 0.03186932795515053, 0.03617599389503574, 0.04823465852671432, 0.055469857305721466, 0.062188256171942395, 0.0787258533811016, 0.10043144971812304, 0.11610771373930519, 0.13161171112289194, 0.1434981091169751, 0.1641701056284241, 0.1686490382059047, 0.17640103689769807, 0.19448903384521593, 0.21274929743032922, 0.23359356057937364, 0.2387615597072359, 0.2292868946394884, 0.2351439603177323, 0.2346271604049461, 0.23996742617040373, 0.25185382416448693, 0.2575386232051354, 0.26976955447440937, 0.27924421954215684, 0.2764879533406303], \"y\": [0.0, 0.0, 0.00040195548772261925, 0.000602933231583929, 0.0004823465852671432, 0.00040195548772261925, 0.00034453327519081653, 0.0006890665503816331, 0.0006890665503816331, 0.0005167999127862248, 0.00034453327519081653, 0.00034453327519081653, 0.00034453327519081653, 0.00034453327519081653, 0.0, 0.0, 0.0, 0.0, 0.0, 0.0, 0.0, 0.00034453327519081653, 0.0010335998255724497, 0.0055125324030530646, 0.007235198779007148, 0.016537597209159195, 0.019638396685876542, 0.024461862538547974, 0.030835728129578084, 0.0415162596604934, 0.060810123071179126, 0.10801118177232098, 0.1267882452702205, 0.13316211086125063, 0.16916583811869093, 0.18949330135494913, 0.2248079620620078, 0.3391930094253589, 0.40965006420188094, 0.5078420476312636, 0.678041485575527, 0.8394553250024246, 1.0094824963090925, 1.1423000738951523, 2.02740605786036, 2.60553289363055, 3.0436069530356735, 3.4343076871020597, 3.996585992213472, 4.202961424052771, 4.876868510326008, 4.849305848310743, 5.236044449712434, 5.354736163015671, 5.602800121153059, 5.633291316007447, 6.1692128255667615, 6.376277323956442, 6.444150379169033, 6.407629851998806, 6.747167394699357, 6.562153025921887, 6.4276127819598745, 6.177826157446531, 5.974206991808759, 5.8276080832150665, 5.491860406541616, 4.95524983043192, 4.7588658635731536, 4.457054714505999, 4.195726225273764, 3.8325881532226433, 3.4978740763747656, 3.407606358274771, 3.345073568827638, 3.2138063909799373]}, {\"hovertemplate\": \"<b>Italy</b><br>Cases: %{y:.2f}<br>Deaths: %{x:.2f}<br>%{text}\", \"line\": {\"shape\": \"spline\"}, \"name\": \"Italy\", \"text\": [\"Date: Feb 22 2020<br> 0 days after first 10 confirmed cases\", \"Date: Feb 23 2020<br> 1 days after first 10 confirmed cases\", \"Date: Feb 24 2020<br> 2 days after first 10 confirmed cases\", \"Date: Feb 25 2020<br> 3 days after first 10 confirmed cases\", \"Date: Feb 26 2020<br> 4 days after first 10 confirmed cases\", \"Date: Feb 27 2020<br> 5 days after first 10 confirmed cases\", \"Date: Feb 28 2020<br> 6 days after first 10 confirmed cases\", \"Date: Feb 29 2020<br> 7 days after first 10 confirmed cases\", \"Date: Mar 01 2020<br> 8 days after first 10 confirmed cases\", \"Date: Mar 02 2020<br> 9 days after first 10 confirmed cases\", \"Date: Mar 03 2020<br> 10 days after first 10 confirmed cases\", \"Date: Mar 04 2020<br> 11 days after first 10 confirmed cases\", \"Date: Mar 05 2020<br> 12 days after first 10 confirmed cases\", \"Date: Mar 06 2020<br> 13 days after first 10 confirmed cases\", \"Date: Mar 07 2020<br> 14 days after first 10 confirmed cases\", \"Date: Mar 08 2020<br> 15 days after first 10 confirmed cases\", \"Date: Mar 09 2020<br> 16 days after first 10 confirmed cases\", \"Date: Mar 10 2020<br> 17 days after first 10 confirmed cases\", \"Date: Mar 11 2020<br> 18 days after first 10 confirmed cases\", \"Date: Mar 12 2020<br> 19 days after first 10 confirmed cases\", \"Date: Mar 13 2020<br> 20 days after first 10 confirmed cases\", \"Date: Mar 14 2020<br> 21 days after first 10 confirmed cases\", \"Date: Mar 15 2020<br> 22 days after first 10 confirmed cases\", \"Date: Mar 16 2020<br> 23 days after first 10 confirmed cases\", \"Date: Mar 17 2020<br> 24 days after first 10 confirmed cases\", \"Date: Mar 18 2020<br> 25 days after first 10 confirmed cases\", \"Date: Mar 19 2020<br> 26 days after first 10 confirmed cases\", \"Date: Mar 20 2020<br> 27 days after first 10 confirmed cases\", \"Date: Mar 21 2020<br> 28 days after first 10 confirmed cases\", \"Date: Mar 22 2020<br> 29 days after first 10 confirmed cases\", \"Date: Mar 23 2020<br> 30 days after first 10 confirmed cases\", \"Date: Mar 24 2020<br> 31 days after first 10 confirmed cases\", \"Date: Mar 25 2020<br> 32 days after first 10 confirmed cases\", \"Date: Mar 26 2020<br> 33 days after first 10 confirmed cases\", \"Date: Mar 27 2020<br> 34 days after first 10 confirmed cases\", \"Date: Mar 28 2020<br> 35 days after first 10 confirmed cases\", \"Date: Mar 29 2020<br> 36 days after first 10 confirmed cases\", \"Date: Mar 30 2020<br> 37 days after first 10 confirmed cases\", \"Date: Mar 31 2020<br> 38 days after first 10 confirmed cases\", \"Date: Apr 01 2020<br> 39 days after first 10 confirmed cases\", \"Date: Apr 02 2020<br> 40 days after first 10 confirmed cases\", \"Date: Apr 03 2020<br> 41 days after first 10 confirmed cases\", \"Date: Apr 04 2020<br> 42 days after first 10 confirmed cases\", \"Date: Apr 05 2020<br> 43 days after first 10 confirmed cases\", \"Date: Apr 06 2020<br> 44 days after first 10 confirmed cases\", \"Date: Apr 07 2020<br> 45 days after first 10 confirmed cases\", \"Date: Apr 08 2020<br> 46 days after first 10 confirmed cases\", \"Date: Apr 09 2020<br> 47 days after first 10 confirmed cases\", \"Date: Apr 10 2020<br> 48 days after first 10 confirmed cases\", \"Date: Apr 11 2020<br> 49 days after first 10 confirmed cases\", \"Date: Apr 12 2020<br> 50 days after first 10 confirmed cases\", \"Date: Apr 13 2020<br> 51 days after first 10 confirmed cases\", \"Date: Apr 14 2020<br> 52 days after first 10 confirmed cases\", \"Date: Apr 15 2020<br> 53 days after first 10 confirmed cases\", \"Date: Apr 16 2020<br> 54 days after first 10 confirmed cases\", \"Date: Apr 17 2020<br> 55 days after first 10 confirmed cases\", \"Date: Apr 18 2020<br> 56 days after first 10 confirmed cases\", \"Date: Apr 19 2020<br> 57 days after first 10 confirmed cases\"], \"type\": \"scatter\", \"x\": [0.0033095441644024007, 0.0016547720822012004, 0.0033095441644024007, 0.004550623226053301, 0.003971452997282881, 0.0046885208995700684, 0.004964316246603601, 0.006382692317061773, 0.0078010683875199445, 0.010874216540179317, 0.016311324810268975, 0.022457621115587717, 0.03096787753833675, 0.041605698066773035, 0.04822478639557783, 0.07824707988694246, 0.09739515683812779, 0.13025420247040875, 0.1702051284549806, 0.20519173819294884, 0.2531801285767836, 0.2855663821855786, 0.34159223696867635, 0.4004548438926905, 0.44300612600643563, 0.5084878212592545, 0.5652228640775815, 0.653398576457731, 0.8004368957618949, 0.8663913830382, 0.9264359700209293, 1.0200487906711684, 1.0701647451606904, 1.1247722238733302, 1.206565243936418, 1.2283136770167769, 1.2540808422967669, 1.3034876087510596, 1.3261816258783907, 1.3361102583715978, 1.3597498595459006, 1.3108158851150937, 1.2621183066960298, 1.2075108279833902, 1.1663779219401031, 1.1108248591804915, 1.066618804984545, 1.0316321952465768, 0.9857713689684293, 0.9711148162403617, 0.9484207991130307, 0.9314002862675328, 0.9314002862675328, 0.9403833347137679, 0.9198168816921244, 0.9209988617508396, 0.8881398161185584, 0.8886126081420446], \"y\": [0.10259586909647442, 0.09514939472656903, 0.11693722714221816, 0.12617637126784154, 0.12675554149661192, 0.17457845467222663, 0.20590092622817793, 0.247979416318437, 0.36806859028389555, 0.42716759321965275, 0.5153433055998025, 0.635668875577004, 0.7583584056716357, 0.8860122520128713, 1.1240630358381012, 1.3441477227708607, 1.6869219397982522, 1.8077203017989396, 2.2157398180674073, 2.6606371121677874, 3.078821656941205, 3.610712683363019, 3.9253557749929904, 4.446136188862882, 5.0487096227958626, 5.496443669037158, 6.127857416402788, 6.940823300787063, 7.664195096720731, 8.3112109808614, 8.49772743412665, 8.905037762359889, 9.142142962138145, 9.338588047896604, 9.33220535557954, 9.194386480733355, 9.113302648705497, 8.938605996027398, 8.655876365982737, 8.554698872956719, 8.203650795518323, 7.878842675383401, 7.602495737655801, 7.389502931075332, 7.282888329779225, 7.043182773871795, 6.819552146762889, 6.709864397314124, 6.559989325869044, 6.533749368565568, 6.48079666193513, 6.37536404069774, 6.3595255079109565, 6.083178570183356, 5.984365037274769, 5.8760956638964625, 5.591711261769599, 5.344677429498134]}, {\"hovertemplate\": \"<b>Spain</b><br>Cases: %{y:.2f}<br>Deaths: %{x:.2f}<br>%{text}\", \"line\": {\"shape\": \"spline\"}, \"name\": \"Spain\", \"text\": [\"Date: Feb 27 2020<br> 0 days after first 10 confirmed cases\", \"Date: Feb 28 2020<br> 1 days after first 10 confirmed cases\", \"Date: Feb 29 2020<br> 2 days after first 10 confirmed cases\", \"Date: Mar 01 2020<br> 3 days after first 10 confirmed cases\", \"Date: Mar 02 2020<br> 4 days after first 10 confirmed cases\", \"Date: Mar 03 2020<br> 5 days after first 10 confirmed cases\", \"Date: Mar 04 2020<br> 6 days after first 10 confirmed cases\", \"Date: Mar 05 2020<br> 7 days after first 10 confirmed cases\", \"Date: Mar 06 2020<br> 8 days after first 10 confirmed cases\", \"Date: Mar 07 2020<br> 9 days after first 10 confirmed cases\", \"Date: Mar 08 2020<br> 10 days after first 10 confirmed cases\", \"Date: Mar 09 2020<br> 11 days after first 10 confirmed cases\", \"Date: Mar 10 2020<br> 12 days after first 10 confirmed cases\", \"Date: Mar 11 2020<br> 13 days after first 10 confirmed cases\", \"Date: Mar 12 2020<br> 14 days after first 10 confirmed cases\", \"Date: Mar 13 2020<br> 15 days after first 10 confirmed cases\", \"Date: Mar 14 2020<br> 16 days after first 10 confirmed cases\", \"Date: Mar 15 2020<br> 17 days after first 10 confirmed cases\", \"Date: Mar 16 2020<br> 18 days after first 10 confirmed cases\", \"Date: Mar 17 2020<br> 19 days after first 10 confirmed cases\", \"Date: Mar 18 2020<br> 20 days after first 10 confirmed cases\", \"Date: Mar 19 2020<br> 21 days after first 10 confirmed cases\", \"Date: Mar 20 2020<br> 22 days after first 10 confirmed cases\", \"Date: Mar 21 2020<br> 23 days after first 10 confirmed cases\", \"Date: Mar 22 2020<br> 24 days after first 10 confirmed cases\", \"Date: Mar 23 2020<br> 25 days after first 10 confirmed cases\", \"Date: Mar 24 2020<br> 26 days after first 10 confirmed cases\", \"Date: Mar 25 2020<br> 27 days after first 10 confirmed cases\", \"Date: Mar 26 2020<br> 28 days after first 10 confirmed cases\", \"Date: Mar 27 2020<br> 29 days after first 10 confirmed cases\", \"Date: Mar 28 2020<br> 30 days after first 10 confirmed cases\", \"Date: Mar 29 2020<br> 31 days after first 10 confirmed cases\", \"Date: Mar 30 2020<br> 32 days after first 10 confirmed cases\", \"Date: Mar 31 2020<br> 33 days after first 10 confirmed cases\", \"Date: Apr 01 2020<br> 34 days after first 10 confirmed cases\", \"Date: Apr 02 2020<br> 35 days after first 10 confirmed cases\", \"Date: Apr 03 2020<br> 36 days after first 10 confirmed cases\", \"Date: Apr 04 2020<br> 37 days after first 10 confirmed cases\", \"Date: Apr 05 2020<br> 38 days after first 10 confirmed cases\", \"Date: Apr 06 2020<br> 39 days after first 10 confirmed cases\", \"Date: Apr 07 2020<br> 40 days after first 10 confirmed cases\", \"Date: Apr 08 2020<br> 41 days after first 10 confirmed cases\", \"Date: Apr 09 2020<br> 42 days after first 10 confirmed cases\", \"Date: Apr 10 2020<br> 43 days after first 10 confirmed cases\", \"Date: Apr 11 2020<br> 44 days after first 10 confirmed cases\", \"Date: Apr 12 2020<br> 45 days after first 10 confirmed cases\", \"Date: Apr 13 2020<br> 46 days after first 10 confirmed cases\", \"Date: Apr 14 2020<br> 47 days after first 10 confirmed cases\", \"Date: Apr 15 2020<br> 48 days after first 10 confirmed cases\", \"Date: Apr 16 2020<br> 49 days after first 10 confirmed cases\", \"Date: Apr 17 2020<br> 50 days after first 10 confirmed cases\", \"Date: Apr 18 2020<br> 51 days after first 10 confirmed cases\", \"Date: Apr 19 2020<br> 52 days after first 10 confirmed cases\"], \"type\": \"scatter\", \"x\": [0.0, 0.0, 0.0, 0.0, 0.0, 0.0, 0.00030574845964766834, 0.0009172453789430051, 0.001528742298238342, 0.001528742298238342, 0.001528742298238342, 0.008560956870134714, 0.010701196087668393, 0.014064429143792745, 0.024765625231461138, 0.03546682131912954, 0.04005304821384456, 0.08652681408029016, 0.08591531716099482, 0.13942129759933677, 0.16846740126586526, 0.20882619793935747, 0.26936439294959585, 0.36384066698072537, 0.43783179421546115, 0.5726668649200828, 0.6741753535231088, 0.8671026315607876, 1.0156963829495544, 1.1789660604014094, 1.3342862779024247, 1.4700385939859895, 1.5770505548626734, 1.6794762888446424, 1.7180005947602486, 1.8081963903563107, 1.8580333892788807, 1.8510011747069843, 1.800858427324767, 1.747352446886425, 1.714943110163772, 1.6822280249814714, 1.6005931862555438, 1.5006134399507565, 1.4091946505161035, 1.392378485235482, 1.3556886700777615, 1.3018769411797722, 1.2303318016222176, 1.1899730049487254, 1.1113956508192746, 1.1282118160998962, 1.0643103880335336], \"y\": [0.02782310982793782, 0.023542631392870467, 0.03852430591560622, 0.0379892461112228, 0.04366088003768704, 0.04958220853953023, 0.05748071041376166, 0.07215663647684974, 0.10395447628020725, 0.11129243931175128, 0.15470872058172022, 0.3332658210159586, 0.4549537079557306, 0.5931520117164767, 0.8386680248135543, 1.179271808861057, 1.6274990507045388, 2.1903819649158964, 2.4420129472059275, 2.9165345565791085, 3.539344168881409, 4.324200464796974, 4.815232490991129, 5.862115216824746, 6.365377181404808, 7.306776688659979, 8.712302357660311, 10.363038291298071, 11.936725613104622, 13.477086352809575, 14.468628607446965, 15.356216385804144, 15.931329238401407, 16.737893674951955, 16.671240510748767, 16.525704243956476, 16.403710608557056, 16.04812514998682, 15.887301460212145, 15.237585983460848, 14.092863750539978, 13.622316871142216, 12.905030984808786, 12.01958344566914, 11.34815982828286, 10.780690687176786, 10.537314913297243, 9.793428910974466, 9.460774586877802, 9.28558071949969, 9.492266678221512, 9.133929483514445, 9.149522654956476]}, {\"hovertemplate\": \"<b>Sweden</b><br>Cases: %{y:.2f}<br>Deaths: %{x:.2f}<br>%{text}\", \"line\": {\"shape\": \"spline\"}, \"name\": \"Sweden\", \"text\": [\"Date: Feb 29 2020<br> 0 days after first 10 confirmed cases\", \"Date: Mar 01 2020<br> 1 days after first 10 confirmed cases\", \"Date: Mar 02 2020<br> 2 days after first 10 confirmed cases\", \"Date: Mar 03 2020<br> 3 days after first 10 confirmed cases\", \"Date: Mar 04 2020<br> 4 days after first 10 confirmed cases\", \"Date: Mar 05 2020<br> 5 days after first 10 confirmed cases\", \"Date: Mar 06 2020<br> 6 days after first 10 confirmed cases\", \"Date: Mar 07 2020<br> 7 days after first 10 confirmed cases\", \"Date: Mar 08 2020<br> 8 days after first 10 confirmed cases\", \"Date: Mar 09 2020<br> 9 days after first 10 confirmed cases\", \"Date: Mar 10 2020<br> 10 days after first 10 confirmed cases\", \"Date: Mar 11 2020<br> 11 days after first 10 confirmed cases\", \"Date: Mar 12 2020<br> 12 days after first 10 confirmed cases\", \"Date: Mar 13 2020<br> 13 days after first 10 confirmed cases\", \"Date: Mar 14 2020<br> 14 days after first 10 confirmed cases\", \"Date: Mar 15 2020<br> 15 days after first 10 confirmed cases\", \"Date: Mar 16 2020<br> 16 days after first 10 confirmed cases\", \"Date: Mar 17 2020<br> 17 days after first 10 confirmed cases\", \"Date: Mar 18 2020<br> 18 days after first 10 confirmed cases\", \"Date: Mar 19 2020<br> 19 days after first 10 confirmed cases\", \"Date: Mar 20 2020<br> 20 days after first 10 confirmed cases\", \"Date: Mar 21 2020<br> 21 days after first 10 confirmed cases\", \"Date: Mar 22 2020<br> 22 days after first 10 confirmed cases\", \"Date: Mar 23 2020<br> 23 days after first 10 confirmed cases\", \"Date: Mar 24 2020<br> 24 days after first 10 confirmed cases\", \"Date: Mar 25 2020<br> 25 days after first 10 confirmed cases\", \"Date: Mar 26 2020<br> 26 days after first 10 confirmed cases\", \"Date: Mar 27 2020<br> 27 days after first 10 confirmed cases\", \"Date: Mar 28 2020<br> 28 days after first 10 confirmed cases\", \"Date: Mar 29 2020<br> 29 days after first 10 confirmed cases\", \"Date: Mar 30 2020<br> 30 days after first 10 confirmed cases\", \"Date: Mar 31 2020<br> 31 days after first 10 confirmed cases\", \"Date: Apr 01 2020<br> 32 days after first 10 confirmed cases\", \"Date: Apr 02 2020<br> 33 days after first 10 confirmed cases\", \"Date: Apr 03 2020<br> 34 days after first 10 confirmed cases\", \"Date: Apr 04 2020<br> 35 days after first 10 confirmed cases\", \"Date: Apr 05 2020<br> 36 days after first 10 confirmed cases\", \"Date: Apr 06 2020<br> 37 days after first 10 confirmed cases\", \"Date: Apr 07 2020<br> 38 days after first 10 confirmed cases\", \"Date: Apr 08 2020<br> 39 days after first 10 confirmed cases\", \"Date: Apr 09 2020<br> 40 days after first 10 confirmed cases\", \"Date: Apr 10 2020<br> 41 days after first 10 confirmed cases\", \"Date: Apr 11 2020<br> 42 days after first 10 confirmed cases\", \"Date: Apr 12 2020<br> 43 days after first 10 confirmed cases\", \"Date: Apr 13 2020<br> 44 days after first 10 confirmed cases\", \"Date: Apr 14 2020<br> 45 days after first 10 confirmed cases\", \"Date: Apr 15 2020<br> 46 days after first 10 confirmed cases\", \"Date: Apr 16 2020<br> 47 days after first 10 confirmed cases\", \"Date: Apr 17 2020<br> 48 days after first 10 confirmed cases\", \"Date: Apr 18 2020<br> 49 days after first 10 confirmed cases\", \"Date: Apr 19 2020<br> 50 days after first 10 confirmed cases\"], \"type\": \"scatter\", \"x\": [0.0, 0.0, 0.0, 0.0, 0.0, 0.0, 0.0, 0.0, 0.0, 0.0, 0.0, 0.0014028742789664603, 0.0014028742789664603, 0.0014028742789664603, 0.0014028742789664603, 0.004208622836899381, 0.009820119952765223, 0.011222994231731682, 0.012625868510698145, 0.012625868510698145, 0.021043114184496906, 0.026654611300362747, 0.02525173702139629, 0.02525173702139629, 0.03928047981106089, 0.04489197692692673, 0.07856095962212178, 0.10661844520145099, 0.11503569087524974, 0.12485581082801497, 0.1697477877549417, 0.20201389617117033, 0.2763662329563927, 0.30302084425675546, 0.338092701230917, 0.3801789295999108, 0.40823641517924, 0.46435138633789835, 0.5765813286552153, 0.6284876769769743, 0.7168687565518613, 0.7533434878049892, 0.7210773793887606, 0.6986313909252972, 0.6200704313031755, 0.6200704313031755, 0.7238831279466935, 0.7575521106418885, 0.743523367852224, 0.8753935500750714, 0.8992424128175011], \"y\": [0.009820119952765223, 0.009820119952765223, 0.009820119952765223, 0.02946035985829567, 0.04517255178272002, 0.08019764628091598, 0.17535928487080754, 0.20762539328703614, 0.265143238724661, 0.32686970699918527, 0.4236680322478711, 0.5990273171186786, 0.7842067219422515, 0.8950337899806018, 1.0703930748514092, 1.1629827772631958, 1.22470924553772, 1.1798172686107933, 1.1770115200528604, 1.1265080460100676, 1.1896373885635585, 1.1531626573104305, 1.2261121198166864, 1.255572479674982, 1.5501760782579388, 1.6960750032704506, 1.940175127810615, 1.9962900989692733, 2.386289148521949, 2.51675645646583, 2.8225830492805186, 3.0344170654044538, 3.418804617841264, 3.731645582050785, 4.253514813826309, 4.203011339783515, 4.390996493165021, 4.458334458555411, 4.570564400872728, 4.870779496571551, 5.155562975201742, 5.060167524232023, 5.201857826407635, 5.124699741064481, 5.249555551892495, 5.263584294682159, 4.921282970614343, 4.768369674206999, 4.953549079030572, 5.149951478085876, 5.474015436527129]}, {\"hovertemplate\": \"<b>Switzerland</b><br>Cases: %{y:.2f}<br>Deaths: %{x:.2f}<br>%{text}\", \"line\": {\"shape\": \"spline\"}, \"name\": \"Switzerland\", \"text\": [\"Date: Feb 29 2020<br> 0 days after first 10 confirmed cases\", \"Date: Mar 01 2020<br> 1 days after first 10 confirmed cases\", \"Date: Mar 02 2020<br> 2 days after first 10 confirmed cases\", \"Date: Mar 03 2020<br> 3 days after first 10 confirmed cases\", \"Date: Mar 04 2020<br> 4 days after first 10 confirmed cases\", \"Date: Mar 05 2020<br> 5 days after first 10 confirmed cases\", \"Date: Mar 06 2020<br> 6 days after first 10 confirmed cases\", \"Date: Mar 07 2020<br> 7 days after first 10 confirmed cases\", \"Date: Mar 08 2020<br> 8 days after first 10 confirmed cases\", \"Date: Mar 09 2020<br> 9 days after first 10 confirmed cases\", \"Date: Mar 10 2020<br> 10 days after first 10 confirmed cases\", \"Date: Mar 11 2020<br> 11 days after first 10 confirmed cases\", \"Date: Mar 12 2020<br> 12 days after first 10 confirmed cases\", \"Date: Mar 13 2020<br> 13 days after first 10 confirmed cases\", \"Date: Mar 14 2020<br> 14 days after first 10 confirmed cases\", \"Date: Mar 15 2020<br> 15 days after first 10 confirmed cases\", \"Date: Mar 16 2020<br> 16 days after first 10 confirmed cases\", \"Date: Mar 17 2020<br> 17 days after first 10 confirmed cases\", \"Date: Mar 18 2020<br> 18 days after first 10 confirmed cases\", \"Date: Mar 19 2020<br> 19 days after first 10 confirmed cases\", \"Date: Mar 20 2020<br> 20 days after first 10 confirmed cases\", \"Date: Mar 21 2020<br> 21 days after first 10 confirmed cases\", \"Date: Mar 22 2020<br> 22 days after first 10 confirmed cases\", \"Date: Mar 23 2020<br> 23 days after first 10 confirmed cases\", \"Date: Mar 24 2020<br> 24 days after first 10 confirmed cases\", \"Date: Mar 25 2020<br> 25 days after first 10 confirmed cases\", \"Date: Mar 26 2020<br> 26 days after first 10 confirmed cases\", \"Date: Mar 27 2020<br> 27 days after first 10 confirmed cases\", \"Date: Mar 28 2020<br> 28 days after first 10 confirmed cases\", \"Date: Mar 29 2020<br> 29 days after first 10 confirmed cases\", \"Date: Mar 30 2020<br> 30 days after first 10 confirmed cases\", \"Date: Mar 31 2020<br> 31 days after first 10 confirmed cases\", \"Date: Apr 01 2020<br> 32 days after first 10 confirmed cases\", \"Date: Apr 02 2020<br> 33 days after first 10 confirmed cases\", \"Date: Apr 03 2020<br> 34 days after first 10 confirmed cases\", \"Date: Apr 04 2020<br> 35 days after first 10 confirmed cases\", \"Date: Apr 05 2020<br> 36 days after first 10 confirmed cases\", \"Date: Apr 06 2020<br> 37 days after first 10 confirmed cases\", \"Date: Apr 07 2020<br> 38 days after first 10 confirmed cases\", \"Date: Apr 08 2020<br> 39 days after first 10 confirmed cases\", \"Date: Apr 09 2020<br> 40 days after first 10 confirmed cases\", \"Date: Apr 10 2020<br> 41 days after first 10 confirmed cases\", \"Date: Apr 11 2020<br> 42 days after first 10 confirmed cases\", \"Date: Apr 12 2020<br> 43 days after first 10 confirmed cases\", \"Date: Apr 13 2020<br> 44 days after first 10 confirmed cases\", \"Date: Apr 14 2020<br> 45 days after first 10 confirmed cases\", \"Date: Apr 15 2020<br> 46 days after first 10 confirmed cases\", \"Date: Apr 16 2020<br> 47 days after first 10 confirmed cases\", \"Date: Apr 17 2020<br> 48 days after first 10 confirmed cases\", \"Date: Apr 18 2020<br> 49 days after first 10 confirmed cases\", \"Date: Apr 19 2020<br> 50 days after first 10 confirmed cases\"], \"type\": \"scatter\", \"x\": [0.0, 0.0, 0.0, 0.0, 0.0, 0.0019569755787843335, 0.0016774076389580003, 0.0016774076389580003, 0.0033548152779160007, 0.0033548152779160007, 0.005032222916874001, 0.006709630555832001, 0.005032222916874001, 0.010064445833748001, 0.016774076389580006, 0.018451484028538002, 0.020128891667496002, 0.026838522223328005, 0.028515929862286005, 0.048644821529782015, 0.06038667500248802, 0.07548334375311001, 0.07883815903102602, 0.08722519722581602, 0.11238631181018603, 0.13754742639455603, 0.21470817778662404, 0.25832077639953205, 0.3002559673734821, 0.33044930487472607, 0.38412634932138207, 0.4814159923809461, 0.46128710071345014, 0.4545774701576181, 0.4814159923809461, 0.5116093298821901, 0.5065771069653161, 0.4847708076588621, 0.44954524724074413, 0.5485122979392661, 0.543480075022392, 0.5384478521055182, 0.4881256229367781, 0.5015448840484422, 0.4596096930744921, 0.4344485784901221, 0.44954524724074413, 0.43612598612908016, 0.42438413265637415, 0.4679967312692821, 0.46296450835240816], \"y\": [0.07045112083623602, 0.07045112083623602, 0.07045112083623602, 0.07338658420441252, 0.10567668125435403, 0.14677316840882504, 0.33044930487472607, 0.41264227918366814, 0.5166415527990641, 0.5770282278015522, 0.7598656604479741, 0.9812834687904303, 1.2865716590807863, 1.5297957667296962, 1.8367613646590104, 3.1333974695735445, 3.0629463487373085, 3.6232005001492804, 3.9721012890525444, 5.089254776598573, 6.238279009284804, 7.914009240603846, 8.002911845468619, 9.754125420540772, 10.297605495563165, 11.245340811574435, 11.44998454352731, 12.184689089390917, 11.867659045627853, 12.250107987310276, 12.40778430537233, 12.276946509533605, 12.33901059217505, 12.547009139405844, 11.948174612297835, 11.824046447014945, 11.319146747688587, 10.336185871259199, 10.15838066152965, 9.460579083723122, 8.89193789411636, 8.388715602428961, 7.747945884347004, 7.041757268345685, 6.583824982910151, 6.020216016220263, 6.08228009886171, 5.293898508551449, 4.644741752274704, 4.196873912672917, 4.089519823779605]}, {\"hovertemplate\": \"<b>United States of America</b><br>Cases: %{y:.2f}<br>Deaths: %{x:.2f}<br>%{text}\", \"line\": {\"shape\": \"spline\"}, \"name\": \"United States of America\", \"text\": [\"Date: Feb 03 2020<br> 0 days after first 10 confirmed cases\", \"Date: Feb 04 2020<br> 1 days after first 10 confirmed cases\", \"Date: Feb 05 2020<br> 2 days after first 10 confirmed cases\", \"Date: Feb 06 2020<br> 3 days after first 10 confirmed cases\", \"Date: Feb 07 2020<br> 4 days after first 10 confirmed cases\", \"Date: Feb 08 2020<br> 5 days after first 10 confirmed cases\", \"Date: Feb 09 2020<br> 6 days after first 10 confirmed cases\", \"Date: Feb 10 2020<br> 7 days after first 10 confirmed cases\", \"Date: Feb 11 2020<br> 8 days after first 10 confirmed cases\", \"Date: Feb 12 2020<br> 9 days after first 10 confirmed cases\", \"Date: Feb 13 2020<br> 10 days after first 10 confirmed cases\", \"Date: Feb 14 2020<br> 11 days after first 10 confirmed cases\", \"Date: Feb 15 2020<br> 12 days after first 10 confirmed cases\", \"Date: Feb 16 2020<br> 13 days after first 10 confirmed cases\", \"Date: Feb 17 2020<br> 14 days after first 10 confirmed cases\", \"Date: Feb 18 2020<br> 15 days after first 10 confirmed cases\", \"Date: Feb 19 2020<br> 16 days after first 10 confirmed cases\", \"Date: Feb 20 2020<br> 17 days after first 10 confirmed cases\", \"Date: Feb 21 2020<br> 18 days after first 10 confirmed cases\", \"Date: Feb 22 2020<br> 19 days after first 10 confirmed cases\", \"Date: Feb 23 2020<br> 20 days after first 10 confirmed cases\", \"Date: Feb 24 2020<br> 21 days after first 10 confirmed cases\", \"Date: Feb 25 2020<br> 22 days after first 10 confirmed cases\", \"Date: Feb 26 2020<br> 23 days after first 10 confirmed cases\", \"Date: Feb 27 2020<br> 24 days after first 10 confirmed cases\", \"Date: Feb 28 2020<br> 25 days after first 10 confirmed cases\", \"Date: Feb 29 2020<br> 26 days after first 10 confirmed cases\", \"Date: Mar 01 2020<br> 27 days after first 10 confirmed cases\", \"Date: Mar 02 2020<br> 28 days after first 10 confirmed cases\", \"Date: Mar 03 2020<br> 29 days after first 10 confirmed cases\", \"Date: Mar 04 2020<br> 30 days after first 10 confirmed cases\", \"Date: Mar 05 2020<br> 31 days after first 10 confirmed cases\", \"Date: Mar 06 2020<br> 32 days after first 10 confirmed cases\", \"Date: Mar 07 2020<br> 33 days after first 10 confirmed cases\", \"Date: Mar 08 2020<br> 34 days after first 10 confirmed cases\", \"Date: Mar 09 2020<br> 35 days after first 10 confirmed cases\", \"Date: Mar 10 2020<br> 36 days after first 10 confirmed cases\", \"Date: Mar 11 2020<br> 37 days after first 10 confirmed cases\", \"Date: Mar 12 2020<br> 38 days after first 10 confirmed cases\", \"Date: Mar 13 2020<br> 39 days after first 10 confirmed cases\", \"Date: Mar 14 2020<br> 40 days after first 10 confirmed cases\", \"Date: Mar 15 2020<br> 41 days after first 10 confirmed cases\", \"Date: Mar 16 2020<br> 42 days after first 10 confirmed cases\", \"Date: Mar 17 2020<br> 43 days after first 10 confirmed cases\", \"Date: Mar 18 2020<br> 44 days after first 10 confirmed cases\", \"Date: Mar 19 2020<br> 45 days after first 10 confirmed cases\", \"Date: Mar 20 2020<br> 46 days after first 10 confirmed cases\", \"Date: Mar 21 2020<br> 47 days after first 10 confirmed cases\", \"Date: Mar 22 2020<br> 48 days after first 10 confirmed cases\", \"Date: Mar 23 2020<br> 49 days after first 10 confirmed cases\", \"Date: Mar 24 2020<br> 50 days after first 10 confirmed cases\", \"Date: Mar 25 2020<br> 51 days after first 10 confirmed cases\", \"Date: Mar 26 2020<br> 52 days after first 10 confirmed cases\", \"Date: Mar 27 2020<br> 53 days after first 10 confirmed cases\", \"Date: Mar 28 2020<br> 54 days after first 10 confirmed cases\", \"Date: Mar 29 2020<br> 55 days after first 10 confirmed cases\", \"Date: Mar 30 2020<br> 56 days after first 10 confirmed cases\", \"Date: Mar 31 2020<br> 57 days after first 10 confirmed cases\", \"Date: Apr 01 2020<br> 58 days after first 10 confirmed cases\", \"Date: Apr 02 2020<br> 59 days after first 10 confirmed cases\", \"Date: Apr 03 2020<br> 60 days after first 10 confirmed cases\", \"Date: Apr 04 2020<br> 61 days after first 10 confirmed cases\", \"Date: Apr 05 2020<br> 62 days after first 10 confirmed cases\", \"Date: Apr 06 2020<br> 63 days after first 10 confirmed cases\", \"Date: Apr 07 2020<br> 64 days after first 10 confirmed cases\", \"Date: Apr 08 2020<br> 65 days after first 10 confirmed cases\", \"Date: Apr 09 2020<br> 66 days after first 10 confirmed cases\", \"Date: Apr 10 2020<br> 67 days after first 10 confirmed cases\", \"Date: Apr 11 2020<br> 68 days after first 10 confirmed cases\", \"Date: Apr 12 2020<br> 69 days after first 10 confirmed cases\", \"Date: Apr 13 2020<br> 70 days after first 10 confirmed cases\", \"Date: Apr 14 2020<br> 71 days after first 10 confirmed cases\", \"Date: Apr 15 2020<br> 72 days after first 10 confirmed cases\", \"Date: Apr 16 2020<br> 73 days after first 10 confirmed cases\", \"Date: Apr 17 2020<br> 74 days after first 10 confirmed cases\", \"Date: Apr 18 2020<br> 75 days after first 10 confirmed cases\", \"Date: Apr 19 2020<br> 76 days after first 10 confirmed cases\"], \"type\": \"scatter\", \"x\": [0.0, 0.0, 0.0, 0.0, 0.0, 0.0, 0.0, 0.0, 0.0, 0.0, 0.0, 0.0, 0.0, 0.0, 0.0, 0.0, 0.0, 0.0, 0.0, 0.0, 0.0, 0.0, 0.0, 0.0, 0.0, 0.0, 4.3664841916125074e-05, 8.732968383225015e-05, 0.00026198905149675046, 0.00039298357724512574, 0.0004803132610773758, 0.0005239781029935009, 0.0006113077868257511, 0.0006986374706580012, 0.0008296319964063765, 0.0008732968383225017, 0.0008296319964063765, 0.0008296319964063765, 0.0012226155736515022, 0.0014409397832321276, 0.0017465936766450033, 0.0020959124119740036, 0.0025762256730513795, 0.0034931873532900067, 0.00523978102993501, 0.004803132610773759, 0.009300611328134641, 0.0123571502622634, 0.01755326645028228, 0.022050745167643163, 0.03025973544787468, 0.039298357724512574, 0.050039908835879346, 0.06318302625263299, 0.08082362238674753, 0.08898894782506292, 0.1126552921436027, 0.143133351801058, 0.17850187375311932, 0.207713652995007, 0.23797338844288166, 0.27552515249074927, 0.3116796415973008, 0.341415398942182, 0.38494924633255867, 0.42263200490617464, 0.4644629234618225, 0.5073854630653735, 0.5286502410785263, 0.5441075951168346, 0.5527968986581435, 0.5747166493000383, 0.7059731640999103, 0.7245743867561795, 0.798062315701018, 0.7991539367489211, 0.8110307737501073], \"y\": [0.0, 0.0, 0.00010188463113762517, 7.641347335321889e-05, 6.113077868257512e-05, 5.0942315568812585e-05, 4.3664841916125074e-05, 8.732968383225015e-05, 8.732968383225015e-05, 8.732968383225015e-05, 0.00013099452574837523, 0.00013099452574837523, 0.00013099452574837523, 0.00013099452574837523, 8.732968383225015e-05, 8.732968383225015e-05, 4.3664841916125074e-05, 4.3664841916125074e-05, 0.0008732968383225017, 0.0008732968383225017, 0.0008732968383225017, 0.001659263992812753, 0.001659263992812753, 0.0019212530443095033, 0.0019212530443095033, 0.0013536100993998775, 0.0014846046251482527, 0.0023579014634707543, 0.002183242095806254, 0.003143868617961006, 0.004366484191612508, 0.007554017651489639, 0.011876837001186021, 0.01589400245746953, 0.02030415149099816, 0.028425812087397428, 0.039298357724512574, 0.05034556272929222, 0.06244072394005887, 0.08016864975800565, 0.10994807194480297, 0.14060079096992276, 0.17059853736630068, 0.23587747603090767, 0.35381621404636154, 0.5496093651982663, 0.7619514914363826, 1.0390485782361123, 1.3724733111076437, 1.824360760097622, 2.1310189448745684, 2.6102405849040413, 3.1325594239047296, 3.7142187830694313, 4.275573990743136, 4.70789959055469, 5.160223687963829, 5.867987110582302, 6.441743133360185, 6.966681862875841, 7.566200142384238, 8.190301727891413, 8.497614885297102, 8.889113857917078, 9.134291945276122, 9.405887261994419, 9.627791988612167, 9.763240328235987, 9.506447392927255, 9.603470671664885, 9.361654777133385, 9.200487845620968, 9.06185197253727, 8.964304715696645, 8.759341947742357, 8.957187346464318, 8.825363188719537]}],\n",
       "                        {\"template\": {\"data\": {\"bar\": [{\"error_x\": {\"color\": \"#2a3f5f\"}, \"error_y\": {\"color\": \"#2a3f5f\"}, \"marker\": {\"line\": {\"color\": \"#E5ECF6\", \"width\": 0.5}}, \"type\": \"bar\"}], \"barpolar\": [{\"marker\": {\"line\": {\"color\": \"#E5ECF6\", \"width\": 0.5}}, \"type\": \"barpolar\"}], \"carpet\": [{\"aaxis\": {\"endlinecolor\": \"#2a3f5f\", \"gridcolor\": \"white\", \"linecolor\": \"white\", \"minorgridcolor\": \"white\", \"startlinecolor\": \"#2a3f5f\"}, \"baxis\": {\"endlinecolor\": \"#2a3f5f\", \"gridcolor\": \"white\", \"linecolor\": \"white\", \"minorgridcolor\": \"white\", \"startlinecolor\": \"#2a3f5f\"}, \"type\": \"carpet\"}], \"choropleth\": [{\"colorbar\": {\"outlinewidth\": 0, \"ticks\": \"\"}, \"type\": \"choropleth\"}], \"contour\": [{\"colorbar\": {\"outlinewidth\": 0, \"ticks\": \"\"}, \"colorscale\": [[0.0, \"#0d0887\"], [0.1111111111111111, \"#46039f\"], [0.2222222222222222, \"#7201a8\"], [0.3333333333333333, \"#9c179e\"], [0.4444444444444444, \"#bd3786\"], [0.5555555555555556, \"#d8576b\"], [0.6666666666666666, \"#ed7953\"], [0.7777777777777778, \"#fb9f3a\"], [0.8888888888888888, \"#fdca26\"], [1.0, \"#f0f921\"]], \"type\": \"contour\"}], \"contourcarpet\": [{\"colorbar\": {\"outlinewidth\": 0, \"ticks\": \"\"}, \"type\": \"contourcarpet\"}], \"heatmap\": [{\"colorbar\": {\"outlinewidth\": 0, \"ticks\": \"\"}, \"colorscale\": [[0.0, \"#0d0887\"], [0.1111111111111111, \"#46039f\"], [0.2222222222222222, \"#7201a8\"], [0.3333333333333333, \"#9c179e\"], [0.4444444444444444, \"#bd3786\"], [0.5555555555555556, \"#d8576b\"], [0.6666666666666666, \"#ed7953\"], [0.7777777777777778, \"#fb9f3a\"], [0.8888888888888888, \"#fdca26\"], [1.0, \"#f0f921\"]], \"type\": \"heatmap\"}], \"heatmapgl\": [{\"colorbar\": {\"outlinewidth\": 0, \"ticks\": \"\"}, \"colorscale\": [[0.0, \"#0d0887\"], [0.1111111111111111, \"#46039f\"], [0.2222222222222222, \"#7201a8\"], [0.3333333333333333, \"#9c179e\"], [0.4444444444444444, \"#bd3786\"], [0.5555555555555556, \"#d8576b\"], [0.6666666666666666, \"#ed7953\"], [0.7777777777777778, \"#fb9f3a\"], [0.8888888888888888, \"#fdca26\"], [1.0, \"#f0f921\"]], \"type\": \"heatmapgl\"}], \"histogram\": [{\"marker\": {\"colorbar\": {\"outlinewidth\": 0, \"ticks\": \"\"}}, \"type\": \"histogram\"}], \"histogram2d\": [{\"colorbar\": {\"outlinewidth\": 0, \"ticks\": \"\"}, \"colorscale\": [[0.0, \"#0d0887\"], [0.1111111111111111, \"#46039f\"], [0.2222222222222222, \"#7201a8\"], [0.3333333333333333, \"#9c179e\"], [0.4444444444444444, \"#bd3786\"], [0.5555555555555556, \"#d8576b\"], [0.6666666666666666, \"#ed7953\"], [0.7777777777777778, \"#fb9f3a\"], [0.8888888888888888, \"#fdca26\"], [1.0, \"#f0f921\"]], \"type\": \"histogram2d\"}], \"histogram2dcontour\": [{\"colorbar\": {\"outlinewidth\": 0, \"ticks\": \"\"}, \"colorscale\": [[0.0, \"#0d0887\"], [0.1111111111111111, \"#46039f\"], [0.2222222222222222, \"#7201a8\"], [0.3333333333333333, \"#9c179e\"], [0.4444444444444444, \"#bd3786\"], [0.5555555555555556, \"#d8576b\"], [0.6666666666666666, \"#ed7953\"], [0.7777777777777778, \"#fb9f3a\"], [0.8888888888888888, \"#fdca26\"], [1.0, \"#f0f921\"]], \"type\": \"histogram2dcontour\"}], \"mesh3d\": [{\"colorbar\": {\"outlinewidth\": 0, \"ticks\": \"\"}, \"type\": \"mesh3d\"}], \"parcoords\": [{\"line\": {\"colorbar\": {\"outlinewidth\": 0, \"ticks\": \"\"}}, \"type\": \"parcoords\"}], \"pie\": [{\"automargin\": true, \"type\": \"pie\"}], \"scatter\": [{\"marker\": {\"colorbar\": {\"outlinewidth\": 0, \"ticks\": \"\"}}, \"type\": \"scatter\"}], \"scatter3d\": [{\"line\": {\"colorbar\": {\"outlinewidth\": 0, \"ticks\": \"\"}}, \"marker\": {\"colorbar\": {\"outlinewidth\": 0, \"ticks\": \"\"}}, \"type\": \"scatter3d\"}], \"scattercarpet\": [{\"marker\": {\"colorbar\": {\"outlinewidth\": 0, \"ticks\": \"\"}}, \"type\": \"scattercarpet\"}], \"scattergeo\": [{\"marker\": {\"colorbar\": {\"outlinewidth\": 0, \"ticks\": \"\"}}, \"type\": \"scattergeo\"}], \"scattergl\": [{\"marker\": {\"colorbar\": {\"outlinewidth\": 0, \"ticks\": \"\"}}, \"type\": \"scattergl\"}], \"scattermapbox\": [{\"marker\": {\"colorbar\": {\"outlinewidth\": 0, \"ticks\": \"\"}}, \"type\": \"scattermapbox\"}], \"scatterpolar\": [{\"marker\": {\"colorbar\": {\"outlinewidth\": 0, \"ticks\": \"\"}}, \"type\": \"scatterpolar\"}], \"scatterpolargl\": [{\"marker\": {\"colorbar\": {\"outlinewidth\": 0, \"ticks\": \"\"}}, \"type\": \"scatterpolargl\"}], \"scatterternary\": [{\"marker\": {\"colorbar\": {\"outlinewidth\": 0, \"ticks\": \"\"}}, \"type\": \"scatterternary\"}], \"surface\": [{\"colorbar\": {\"outlinewidth\": 0, \"ticks\": \"\"}, \"colorscale\": [[0.0, \"#0d0887\"], [0.1111111111111111, \"#46039f\"], [0.2222222222222222, \"#7201a8\"], [0.3333333333333333, \"#9c179e\"], [0.4444444444444444, \"#bd3786\"], [0.5555555555555556, \"#d8576b\"], [0.6666666666666666, \"#ed7953\"], [0.7777777777777778, \"#fb9f3a\"], [0.8888888888888888, \"#fdca26\"], [1.0, \"#f0f921\"]], \"type\": \"surface\"}], \"table\": [{\"cells\": {\"fill\": {\"color\": \"#EBF0F8\"}, \"line\": {\"color\": \"white\"}}, \"header\": {\"fill\": {\"color\": \"#C8D4E3\"}, \"line\": {\"color\": \"white\"}}, \"type\": \"table\"}]}, \"layout\": {\"annotationdefaults\": {\"arrowcolor\": \"#2a3f5f\", \"arrowhead\": 0, \"arrowwidth\": 1}, \"coloraxis\": {\"colorbar\": {\"outlinewidth\": 0, \"ticks\": \"\"}}, \"colorscale\": {\"diverging\": [[0, \"#8e0152\"], [0.1, \"#c51b7d\"], [0.2, \"#de77ae\"], [0.3, \"#f1b6da\"], [0.4, \"#fde0ef\"], [0.5, \"#f7f7f7\"], [0.6, \"#e6f5d0\"], [0.7, \"#b8e186\"], [0.8, \"#7fbc41\"], [0.9, \"#4d9221\"], [1, \"#276419\"]], \"sequential\": [[0.0, \"#0d0887\"], [0.1111111111111111, \"#46039f\"], [0.2222222222222222, \"#7201a8\"], [0.3333333333333333, \"#9c179e\"], [0.4444444444444444, \"#bd3786\"], [0.5555555555555556, \"#d8576b\"], [0.6666666666666666, \"#ed7953\"], [0.7777777777777778, \"#fb9f3a\"], [0.8888888888888888, \"#fdca26\"], [1.0, \"#f0f921\"]], \"sequentialminus\": [[0.0, \"#0d0887\"], [0.1111111111111111, \"#46039f\"], [0.2222222222222222, \"#7201a8\"], [0.3333333333333333, \"#9c179e\"], [0.4444444444444444, \"#bd3786\"], [0.5555555555555556, \"#d8576b\"], [0.6666666666666666, \"#ed7953\"], [0.7777777777777778, \"#fb9f3a\"], [0.8888888888888888, \"#fdca26\"], [1.0, \"#f0f921\"]]}, \"colorway\": [\"#636efa\", \"#EF553B\", \"#00cc96\", \"#ab63fa\", \"#FFA15A\", \"#19d3f3\", \"#FF6692\", \"#B6E880\", \"#FF97FF\", \"#FECB52\"], \"font\": {\"color\": \"#2a3f5f\"}, \"geo\": {\"bgcolor\": \"white\", \"lakecolor\": \"white\", \"landcolor\": \"#E5ECF6\", \"showlakes\": true, \"showland\": true, \"subunitcolor\": \"white\"}, \"hoverlabel\": {\"align\": \"left\"}, \"hovermode\": \"closest\", \"mapbox\": {\"style\": \"light\"}, \"paper_bgcolor\": \"white\", \"plot_bgcolor\": \"#E5ECF6\", \"polar\": {\"angularaxis\": {\"gridcolor\": \"white\", \"linecolor\": \"white\", \"ticks\": \"\"}, \"bgcolor\": \"#E5ECF6\", \"radialaxis\": {\"gridcolor\": \"white\", \"linecolor\": \"white\", \"ticks\": \"\"}}, \"scene\": {\"xaxis\": {\"backgroundcolor\": \"#E5ECF6\", \"gridcolor\": \"white\", \"gridwidth\": 2, \"linecolor\": \"white\", \"showbackground\": true, \"ticks\": \"\", \"zerolinecolor\": \"white\"}, \"yaxis\": {\"backgroundcolor\": \"#E5ECF6\", \"gridcolor\": \"white\", \"gridwidth\": 2, \"linecolor\": \"white\", \"showbackground\": true, \"ticks\": \"\", \"zerolinecolor\": \"white\"}, \"zaxis\": {\"backgroundcolor\": \"#E5ECF6\", \"gridcolor\": \"white\", \"gridwidth\": 2, \"linecolor\": \"white\", \"showbackground\": true, \"ticks\": \"\", \"zerolinecolor\": \"white\"}}, \"shapedefaults\": {\"line\": {\"color\": \"#2a3f5f\"}}, \"ternary\": {\"aaxis\": {\"gridcolor\": \"white\", \"linecolor\": \"white\", \"ticks\": \"\"}, \"baxis\": {\"gridcolor\": \"white\", \"linecolor\": \"white\", \"ticks\": \"\"}, \"bgcolor\": \"#E5ECF6\", \"caxis\": {\"gridcolor\": \"white\", \"linecolor\": \"white\", \"ticks\": \"\"}}, \"title\": {\"x\": 0.05}, \"xaxis\": {\"automargin\": true, \"gridcolor\": \"white\", \"linecolor\": \"white\", \"ticks\": \"\", \"title\": {\"standoff\": 15}, \"zerolinecolor\": \"white\", \"zerolinewidth\": 2}, \"yaxis\": {\"automargin\": true, \"gridcolor\": \"white\", \"linecolor\": \"white\", \"ticks\": \"\", \"title\": {\"standoff\": 15}, \"zerolinecolor\": \"white\", \"zerolinewidth\": 2}}}, \"title\": {\"text\": \"New confirmed cases and deaths each day (7-day-average), per 100000 population\"}, \"xaxis\": {\"title\": {\"text\": \"Deaths\"}}, \"yaxis\": {\"title\": {\"text\": \"Confirmed Cases\"}}},\n",
       "                        {\"responsive\": true}\n",
       "                    ).then(function(){\n",
       "                            \n",
       "var gd = document.getElementById('84f33e13-4fa2-4a9e-9c63-5c99a694e395');\n",
       "var x = new MutationObserver(function (mutations, observer) {{\n",
       "        var display = window.getComputedStyle(gd).display;\n",
       "        if (!display || display === 'none') {{\n",
       "            console.log([gd, 'removed!']);\n",
       "            Plotly.purge(gd);\n",
       "            observer.disconnect();\n",
       "        }}\n",
       "}});\n",
       "\n",
       "// Listen for the removal of the full notebook cells\n",
       "var notebookContainer = gd.closest('#notebook-container');\n",
       "if (notebookContainer) {{\n",
       "    x.observe(notebookContainer, {childList: true});\n",
       "}}\n",
       "\n",
       "// Listen for the clearing of the current output cell\n",
       "var outputEl = gd.closest('.output');\n",
       "if (outputEl) {{\n",
       "    x.observe(outputEl, {childList: true});\n",
       "}}\n",
       "\n",
       "                        })\n",
       "                };\n",
       "                });\n",
       "            </script>\n",
       "        </div>"
      ]
     },
     "metadata": {},
     "output_type": "display_data"
    }
   ],
   "source": [
    "fig = go.Figure()\n",
    "for countryName, countryData in data.items():\n",
    "    if countryName in selectedCountries:\n",
    "        fig.add_trace(go.Scatter(\n",
    "            x=countryData[\"deathsAveraged\"]*nPerPopulation/countryData[\"popData2018\"], \n",
    "            y=countryData[\"casesAveraged\"]*nPerPopulation/countryData[\"popData2018\"],\n",
    "            line_shape='spline',\n",
    "            name=countryName.replace(\"_\", \" \"),\n",
    "            hovertemplate =\n",
    "                '<b>{}</b>'.format(countryName.replace(\"_\", \" \"))+\n",
    "                '<br>Cases: %{y:.2f}'+\n",
    "                '<br>Deaths: %{x:.2f}'+\n",
    "                '<br>%{text}',\n",
    "            text = [f\"Date: {countryData['dates'][i].strftime('%b %d %Y')}<br> {i} days after first 10 confirmed cases\" for i in range(countryData[\"casesAveraged\"].shape[0])],\n",
    "        ))\n",
    "fig.update_layout(title=f\"New confirmed cases and deaths each day ({nDaysAverage}-day-average), per {nPerPopulation} population\",\n",
    "                   xaxis_title='Deaths',\n",
    "                   yaxis_title='Confirmed Cases')\n",
    "fig.show()"
   ]
  },
  {
   "cell_type": "code",
   "execution_count": null,
   "metadata": {},
   "outputs": [],
   "source": []
  }
 ],
 "metadata": {
  "kernelspec": {
   "display_name": "Python 3",
   "language": "python",
   "name": "python3"
  },
  "language_info": {
   "codemirror_mode": {
    "name": "ipython",
    "version": 3
   },
   "file_extension": ".py",
   "mimetype": "text/x-python",
   "name": "python",
   "nbconvert_exporter": "python",
   "pygments_lexer": "ipython3",
   "version": "3.7.6"
  }
 },
 "nbformat": 4,
 "nbformat_minor": 4
}
